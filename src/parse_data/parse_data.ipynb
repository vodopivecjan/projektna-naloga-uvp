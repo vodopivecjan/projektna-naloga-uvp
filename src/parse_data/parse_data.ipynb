{
 "cells": [
  {
   "cell_type": "markdown",
   "id": "c1e4e4de",
   "metadata": {},
   "source": [
    "# Analiza podatkov o IMDB-jevi lestvici najboljših 250 serij po ocenah ljudi\n",
    "\n",
    "Ta zvezek vsebuje analizo podatkov o IMDB-jevi lestvici, pomožni skripti za analizo so v parse_data/helpers.\n",
    "\n",
    "Analizirali bomo:\n",
    "- 1. Porazdelitev serij po tipu (serijia ali miniserija)\n",
    "- 2. Porazdelitev tipa serij po državi izvora\n",
    "- 3. Porazdelitev serij po letih\n",
    "- 4. Porazdelitev po pogostosti medijskih kanalov in produkcijskih hiš\n",
    "- 5. Porazdelitev IMDB ocen glede na dolžino\n",
    "- 6. Porazdelitev IMDB ocen glede na št. episod in št. serij\n",
    "- 7. Porazdelitev žanrov po letih\n",
    "- 8. Porazdelitev sodelujocih ljudi v kateremkoli delu nastajanja serij\n"
   ]
  },
  {
   "cell_type": "code",
   "execution_count": 53,
   "id": "f4b95ae5",
   "metadata": {},
   "outputs": [],
   "source": [
    "# ## AUTORELOADING OF MODULES\n",
    "import conf.jupyter_notebook_conf  # noqa: F401"
   ]
  },
  {
   "cell_type": "code",
   "execution_count": 54,
   "id": "aeca1247",
   "metadata": {},
   "outputs": [],
   "source": [
    "import pandas as pd\n",
    "\n",
    "\n",
    "path_to_full_data_csv = \"./../../output/toptv_shows_full_data.csv\"\n",
    "df = pd.read_csv(path_to_full_data_csv)\n",
    "\n",
    "# Popravki za boljšo preglednost\n",
    "# \"Korea, Republic of\" = South Korea\n",
    "df[\"trakt_country_of_origin\"] = df[\"trakt_country_of_origin\"].replace({\"Korea, Republic of\": \"South Korea\"})"
   ]
  },
  {
   "cell_type": "markdown",
   "id": "af55e428",
   "metadata": {},
   "source": [
    "### 1. Analiza serij po tipu serije\n",
    "Najprej lahko na hitro pogledamo koliko je med top 250 serijami dejansko serij in koliko miniserij ter to še procentualno izrazimo\n",
    "Serije so ponavadi daljše, več sezon, medtem ko imajo miniserije ponavadi od 3 do 10 epizod in načeloma samo eno sezono"
   ]
  },
  {
   "cell_type": "code",
   "execution_count": 55,
   "id": "f231f553",
   "metadata": {},
   "outputs": [
    {
     "data": {
      "text/html": [
       "<div>\n",
       "<style scoped>\n",
       "    .dataframe tbody tr th:only-of-type {\n",
       "        vertical-align: middle;\n",
       "    }\n",
       "\n",
       "    .dataframe tbody tr th {\n",
       "        vertical-align: top;\n",
       "    }\n",
       "\n",
       "    .dataframe thead th {\n",
       "        text-align: right;\n",
       "    }\n",
       "</style>\n",
       "<table border=\"1\" class=\"dataframe\">\n",
       "  <thead>\n",
       "    <tr style=\"text-align: right;\">\n",
       "      <th></th>\n",
       "      <th>Tip serije</th>\n",
       "      <th>Št. serij</th>\n",
       "      <th>% Serij</th>\n",
       "    </tr>\n",
       "  </thead>\n",
       "  <tbody>\n",
       "    <tr>\n",
       "      <th>0</th>\n",
       "      <td>Vse skupaj</td>\n",
       "      <td>250</td>\n",
       "      <td>100 %</td>\n",
       "    </tr>\n",
       "    <tr>\n",
       "      <th>1</th>\n",
       "      <td>TV Series</td>\n",
       "      <td>211</td>\n",
       "      <td>84 %</td>\n",
       "    </tr>\n",
       "    <tr>\n",
       "      <th>2</th>\n",
       "      <td>TV Mini Series</td>\n",
       "      <td>39</td>\n",
       "      <td>15 %</td>\n",
       "    </tr>\n",
       "  </tbody>\n",
       "</table>\n",
       "</div>"
      ],
      "text/plain": [
       "       Tip serije  Št. serij % Serij\n",
       "0      Vse skupaj        250   100 %\n",
       "1       TV Series        211    84 %\n",
       "2  TV Mini Series         39    15 %"
      ]
     },
     "execution_count": 55,
     "metadata": {},
     "output_type": "execute_result"
    }
   ],
   "source": [
    "\n",
    "from helpers.serije_miniserije import tabela_serije_miniserije_razmerje\n",
    "\n",
    "tabela_serije_miniserije_razmerje(df)"
   ]
  },
  {
   "cell_type": "markdown",
   "id": "c294f9a6",
   "metadata": {},
   "source": [
    "### 2. Analiza tipa serij po državi izvora\n",
    "Zdaj lahko primerjamo še po državah, glede na serije in miniserije in oboje skupaj, ter tudi spet še procentualno"
   ]
  },
  {
   "cell_type": "code",
   "execution_count": 56,
   "id": "762ba9ac",
   "metadata": {},
   "outputs": [
    {
     "data": {
      "text/html": [
       "<div>\n",
       "<style scoped>\n",
       "    .dataframe tbody tr th:only-of-type {\n",
       "        vertical-align: middle;\n",
       "    }\n",
       "\n",
       "    .dataframe tbody tr th {\n",
       "        vertical-align: top;\n",
       "    }\n",
       "\n",
       "    .dataframe thead th {\n",
       "        text-align: right;\n",
       "    }\n",
       "</style>\n",
       "<table border=\"1\" class=\"dataframe\">\n",
       "  <thead>\n",
       "    <tr style=\"text-align: right;\">\n",
       "      <th></th>\n",
       "      <th>Država izvora</th>\n",
       "      <th>Št. vseh serij</th>\n",
       "      <th>Serije</th>\n",
       "      <th>Miniserije</th>\n",
       "      <th>% Serije</th>\n",
       "      <th>% Miniserije</th>\n",
       "    </tr>\n",
       "  </thead>\n",
       "  <tbody>\n",
       "    <tr>\n",
       "      <th>0</th>\n",
       "      <td>Australia</td>\n",
       "      <td>2</td>\n",
       "      <td>2</td>\n",
       "      <td>0</td>\n",
       "      <td>100 %</td>\n",
       "      <td>0 %</td>\n",
       "    </tr>\n",
       "    <tr>\n",
       "      <th>1</th>\n",
       "      <td>Canada</td>\n",
       "      <td>5</td>\n",
       "      <td>4</td>\n",
       "      <td>1</td>\n",
       "      <td>80 %</td>\n",
       "      <td>20 %</td>\n",
       "    </tr>\n",
       "    <tr>\n",
       "      <th>2</th>\n",
       "      <td>France</td>\n",
       "      <td>2</td>\n",
       "      <td>1</td>\n",
       "      <td>1</td>\n",
       "      <td>50 %</td>\n",
       "      <td>50 %</td>\n",
       "    </tr>\n",
       "    <tr>\n",
       "      <th>3</th>\n",
       "      <td>Germany</td>\n",
       "      <td>2</td>\n",
       "      <td>1</td>\n",
       "      <td>1</td>\n",
       "      <td>50 %</td>\n",
       "      <td>50 %</td>\n",
       "    </tr>\n",
       "    <tr>\n",
       "      <th>4</th>\n",
       "      <td>India</td>\n",
       "      <td>12</td>\n",
       "      <td>11</td>\n",
       "      <td>1</td>\n",
       "      <td>92 %</td>\n",
       "      <td>8 %</td>\n",
       "    </tr>\n",
       "    <tr>\n",
       "      <th>5</th>\n",
       "      <td>Ireland</td>\n",
       "      <td>1</td>\n",
       "      <td>1</td>\n",
       "      <td>0</td>\n",
       "      <td>100 %</td>\n",
       "      <td>0 %</td>\n",
       "    </tr>\n",
       "    <tr>\n",
       "      <th>6</th>\n",
       "      <td>Italy</td>\n",
       "      <td>2</td>\n",
       "      <td>2</td>\n",
       "      <td>0</td>\n",
       "      <td>100 %</td>\n",
       "      <td>0 %</td>\n",
       "    </tr>\n",
       "    <tr>\n",
       "      <th>7</th>\n",
       "      <td>Japan</td>\n",
       "      <td>28</td>\n",
       "      <td>26</td>\n",
       "      <td>2</td>\n",
       "      <td>93 %</td>\n",
       "      <td>7 %</td>\n",
       "    </tr>\n",
       "    <tr>\n",
       "      <th>8</th>\n",
       "      <td>Mexico</td>\n",
       "      <td>1</td>\n",
       "      <td>1</td>\n",
       "      <td>0</td>\n",
       "      <td>100 %</td>\n",
       "      <td>0 %</td>\n",
       "    </tr>\n",
       "    <tr>\n",
       "      <th>9</th>\n",
       "      <td>New Zealand</td>\n",
       "      <td>1</td>\n",
       "      <td>0</td>\n",
       "      <td>1</td>\n",
       "      <td>0 %</td>\n",
       "      <td>100 %</td>\n",
       "    </tr>\n",
       "    <tr>\n",
       "      <th>10</th>\n",
       "      <td>Norway</td>\n",
       "      <td>1</td>\n",
       "      <td>1</td>\n",
       "      <td>0</td>\n",
       "      <td>100 %</td>\n",
       "      <td>0 %</td>\n",
       "    </tr>\n",
       "    <tr>\n",
       "      <th>11</th>\n",
       "      <td>Poland</td>\n",
       "      <td>1</td>\n",
       "      <td>0</td>\n",
       "      <td>1</td>\n",
       "      <td>0 %</td>\n",
       "      <td>100 %</td>\n",
       "    </tr>\n",
       "    <tr>\n",
       "      <th>12</th>\n",
       "      <td>Serbia</td>\n",
       "      <td>1</td>\n",
       "      <td>1</td>\n",
       "      <td>0</td>\n",
       "      <td>100 %</td>\n",
       "      <td>0 %</td>\n",
       "    </tr>\n",
       "    <tr>\n",
       "      <th>13</th>\n",
       "      <td>South Korea</td>\n",
       "      <td>6</td>\n",
       "      <td>6</td>\n",
       "      <td>0</td>\n",
       "      <td>100 %</td>\n",
       "      <td>0 %</td>\n",
       "    </tr>\n",
       "    <tr>\n",
       "      <th>14</th>\n",
       "      <td>Sweden</td>\n",
       "      <td>1</td>\n",
       "      <td>1</td>\n",
       "      <td>0</td>\n",
       "      <td>100 %</td>\n",
       "      <td>0 %</td>\n",
       "    </tr>\n",
       "    <tr>\n",
       "      <th>15</th>\n",
       "      <td>Turkey</td>\n",
       "      <td>6</td>\n",
       "      <td>6</td>\n",
       "      <td>0</td>\n",
       "      <td>100 %</td>\n",
       "      <td>0 %</td>\n",
       "    </tr>\n",
       "    <tr>\n",
       "      <th>16</th>\n",
       "      <td>United Kingdom</td>\n",
       "      <td>50</td>\n",
       "      <td>38</td>\n",
       "      <td>12</td>\n",
       "      <td>76 %</td>\n",
       "      <td>24 %</td>\n",
       "    </tr>\n",
       "    <tr>\n",
       "      <th>17</th>\n",
       "      <td>United States</td>\n",
       "      <td>121</td>\n",
       "      <td>103</td>\n",
       "      <td>18</td>\n",
       "      <td>85 %</td>\n",
       "      <td>15 %</td>\n",
       "    </tr>\n",
       "    <tr>\n",
       "      <th>18</th>\n",
       "      <td>N.A.</td>\n",
       "      <td>7</td>\n",
       "      <td>6</td>\n",
       "      <td>1</td>\n",
       "      <td>86 %</td>\n",
       "      <td>14 %</td>\n",
       "    </tr>\n",
       "  </tbody>\n",
       "</table>\n",
       "</div>"
      ],
      "text/plain": [
       "     Država izvora  Št. vseh serij  Serije  Miniserije % Serije % Miniserije\n",
       "0        Australia               2       2           0    100 %          0 %\n",
       "1           Canada               5       4           1     80 %         20 %\n",
       "2           France               2       1           1     50 %         50 %\n",
       "3          Germany               2       1           1     50 %         50 %\n",
       "4            India              12      11           1     92 %          8 %\n",
       "5          Ireland               1       1           0    100 %          0 %\n",
       "6            Italy               2       2           0    100 %          0 %\n",
       "7            Japan              28      26           2     93 %          7 %\n",
       "8           Mexico               1       1           0    100 %          0 %\n",
       "9      New Zealand               1       0           1      0 %        100 %\n",
       "10          Norway               1       1           0    100 %          0 %\n",
       "11          Poland               1       0           1      0 %        100 %\n",
       "12          Serbia               1       1           0    100 %          0 %\n",
       "13     South Korea               6       6           0    100 %          0 %\n",
       "14          Sweden               1       1           0    100 %          0 %\n",
       "15          Turkey               6       6           0    100 %          0 %\n",
       "16  United Kingdom              50      38          12     76 %         24 %\n",
       "17   United States             121     103          18     85 %         15 %\n",
       "18            N.A.               7       6           1     86 %         14 %"
      ]
     },
     "execution_count": 56,
     "metadata": {},
     "output_type": "execute_result"
    }
   ],
   "source": [
    "from helpers.serije_miniserije import tabela_serije_miniserije_po_drzavah\n",
    "\n",
    "tabela_serije_miniserije_po_drzavah(df)"
   ]
  },
  {
   "cell_type": "markdown",
   "id": "22bf7bcc",
   "metadata": {},
   "source": [
    "Ker vidimo, da miniserije predstavljajo samo 15 procentov vsega, jih bomo od zdaj naprej obravnavali skupaj"
   ]
  },
  {
   "cell_type": "markdown",
   "id": "089f9bd7",
   "metadata": {},
   "source": [
    "### 3. Analiza po letih\n",
    "sedaj bomo pogledali koliko serij je bilo aktivnih v posameznik letih (da se niso zaključile)\n",
    "tiste, ki se torej še snemajo, bomo označili leto zaključka kot letos.\n",
    "Lahko bi rekli da bomo videli 'zlata leta' serij."
   ]
  },
  {
   "cell_type": "code",
   "execution_count": 57,
   "id": "a2298656",
   "metadata": {},
   "outputs": [
    {
     "data": {
      "image/png": "[encoded data removed]",
      "text/plain": [
       "<Figure size 1500x600 with 1 Axes>"
      ]
     },
     "metadata": {},
     "output_type": "display_data"
    }
   ],
   "source": [
    "from helpers.years import plot_active_series_years\n",
    "\n",
    "plot_active_series_years(df)"
   ]
  },
  {
   "cell_type": "markdown",
   "id": "30b96fb0",
   "metadata": {},
   "source": [
    "### 4. Analiza po pogostosti medijskih kanalov in produkcijskih hiš\n",
    "Poglejmo si še kateri kanali in produkcijske hiše dominirajo pri 'serviranju' in 'proizvajanju' serij.\n",
    "Da bo malo bolj jasno, kaj sploh je kaj:\n",
    "##### funkcije kanalov so, da:\n",
    "- Izbirajo in naročajo vsebino, ki jo želijo predvajati (nakup pravic ali produkcija lastnih serij).\n",
    "- Promovirajo serije in določajo urnike predvajanja, tudi sofinancirajo\n",
    "- Skrbijo za distribucijo vsebine do gledalcev. Lahko digitalno (Netflix, Hulu), tradiciconalno (AMC, BBC, tako kot pri nas npr. RTV), ali pa satelitske firme\n",
    "##### funckije produkcijskih hiš pa da:\n",
    "Kaj so produkcijske hiše (studios)?\n",
    "- Dejansko organizirajo snemanja, režijo, scenariste, igralce, tehnično osebje itd.\n",
    "- Poskrbijo za razvoj scenarija, snemalne lokacije, postprodukcijo (montažo, specialne efekte, zvok).\n",
    "- Lahko delujejo kot neodvisni producenti ali so del večjih medijskih konglomeratov.\n",
    "- Po končani produkciji pogosto serijo prodajo ali oddajo kanalu ali streaming platformi za distribucijo.\n",
    "\n",
    "Na spodnjih dveh grafih pogostost pomeni, pri kolikih serijah se je pojavil/a določena produkcijska hiša, kanal\n",
    "\n",
    "Na tortnih prikazih pa vidimo delež sodelujočih produkcijska hiš in kanalov glede na vse serije, pod ostalo gredo\n",
    "sodelujoči, ki so sodelovali v manj kot 1 % vseh serij.\n",
    "(Vidimo lahko, kako je v resnici zelo porazdeljeno, kdo vse sodeluje pri serviranju in proizvajanju serij\n",
    "in da velikani sploh ne dominirajo prav veliko, še posebej pri produkcijskih hišah)\n"
   ]
  },
  {
   "cell_type": "code",
   "execution_count": 58,
   "id": "12ce0a96",
   "metadata": {},
   "outputs": [
    {
     "data": {
      "image/png": "[encoded data removed]",
      "text/plain": [
       "<Figure size 1500x600 with 1 Axes>"
      ]
     },
     "metadata": {},
     "output_type": "display_data"
    },
    {
     "data": {
      "image/png": "[encoded data removed]",
      "text/plain": [
       "<Figure size 1500x600 with 1 Axes>"
      ]
     },
     "metadata": {},
     "output_type": "display_data"
    },
    {
     "data": {
      "image/png": "[encoded data removed]",
      "text/plain": [
       "<Figure size 1800x1000 with 2 Axes>"
      ]
     },
     "metadata": {},
     "output_type": "display_data"
    }
   ],
   "source": [
    "from helpers.networks_studios import  plot_networks_studios\n",
    "\n",
    "plot_networks_studios(df)"
   ]
  },
  {
   "cell_type": "markdown",
   "id": "bc233958",
   "metadata": {},
   "source": [
    "### 5. Analiza IMDB ocen glede na dolžino\n",
    "Tole je že malo bolj specifično, zanima nas, ali dolžina oz. trajanje serije vpliva na št. oddanih glasov na imdb-ju oz.\n",
    "kaj je 'the sweet spot' dolžina za največ oddanih glasov. Gledali bomo trajnaje celotne serije (prva 2 grafa)\n",
    "in tudi po povprečnem trajanju posameznega dela"
   ]
  },
  {
   "cell_type": "code",
   "execution_count": 59,
   "id": "7579165e",
   "metadata": {},
   "outputs": [
    {
     "data": {
      "application/vnd.plotly.v1+json": {
       "config": {
        "plotlyServerURL": "https://plot.ly"
       },
       "data": [
        {
         "customdata": [
          [
           "49.9h"
          ],
          [
           "5.0h"
          ],
          [
           "9.3h"
          ],
          [
           "10.4h"
          ],
          [
           "5.5h"
          ],
          [
           "60.0h"
          ],
          [
           "24.9h"
          ],
          [
           "77.6h"
          ],
          [
           "6.1h"
          ],
          [
           "19.0h"
          ],
          [
           "13.0h"
          ],
          [
           "10.0h"
          ],
          [
           "70.5h"
          ],
          [
           "18.3h"
          ],
          [
           "24.0h"
          ],
          [
           "26.7h"
          ],
          [
           "9.7h"
          ],
          [
           "8.4h"
          ],
          [
           "34.8h"
          ],
          [
           "30.6h"
          ],
          [
           "75.6h"
          ],
          [
           "16.9h"
          ],
          [
           "17.8h"
          ],
          [
           "31.2h"
          ],
          [
           "53.0h"
          ],
          [
           "12.6h"
          ],
          [
           "74.4h"
          ],
          [
           "6.7h"
          ],
          [
           "25.4h"
          ],
          [
           "8.8h"
          ],
          [
           "6.8h"
          ],
          [
           "7.8h"
          ],
          [
           "58.4h"
          ],
          [
           "26.3h"
          ],
          [
           "4.5h"
          ],
          [
           "8.7h"
          ],
          [
           "11.5h"
          ],
          [
           "14.1h"
          ],
          [
           "50.4h"
          ],
          [
           "15.7h"
          ],
          [
           "71.9h"
          ],
          [
           "12.3h"
          ],
          [
           "9.8h"
          ],
          [
           "7.8h"
          ],
          [
           "29.6h"
          ],
          [
           "10.8h"
          ],
          [
           "11.9h"
          ],
          [
           "44.6h"
          ],
          [
           "129.7h"
          ],
          [
           "11.7h"
          ],
          [
           "21.1h"
          ],
          [
           "5.3h"
          ],
          [
           "5.7h"
          ],
          [
           "5.0h"
          ],
          [
           "90.1h"
          ],
          [
           "184.2h"
          ],
          [
           "63.8h"
          ],
          [
           "103.9h"
          ],
          [
           "39.8h"
          ],
          [
           "8.6h"
          ],
          [
           "66.0h"
          ],
          [
           "21.9h"
          ],
          [
           "5.2h"
          ],
          [
           "32.8h"
          ],
          [
           "6.2h"
          ],
          [
           "19.1h"
          ],
          [
           "16.5h"
          ],
          [
           "2.9h"
          ],
          [
           "186.9h"
          ],
          [
           "38.7h"
          ],
          [
           "13.2h"
          ],
          [
           "5.5h"
          ],
          [
           "122.0h"
          ],
          [
           "42.7h"
          ],
          [
           "10.3h"
          ],
          [
           "20.5h"
          ],
          [
           "10.2h"
          ],
          [
           "26.1h"
          ],
          [
           "11.6h"
          ],
          [
           "119.5h"
          ],
          [
           "31.7h"
          ],
          [
           "10.6h"
          ],
          [
           "25.0h"
          ],
          [
           "1.8h"
          ],
          [
           "32.1h"
          ],
          [
           "34.7h"
          ],
          [
           "9.6h"
          ],
          [
           "21.2h"
          ],
          [
           "56.4h"
          ],
          [
           "10.0h"
          ],
          [
           "19.6h"
          ],
          [
           "54.0h"
          ],
          [
           "5.7h"
          ],
          [
           "24.4h"
          ],
          [
           "5.0h"
          ],
          [
           "69.8h"
          ],
          [
           "43.6h"
          ],
          [
           "51.9h"
          ],
          [
           "54.8h"
          ],
          [
           "15.6h"
          ],
          [
           "73.8h"
          ],
          [
           "22.0h"
          ],
          [
           "6.4h"
          ],
          [
           "19.9h"
          ],
          [
           "29.6h"
          ],
          [
           "191.7h"
          ],
          [
           "297.6h"
          ],
          [
           "135.8h"
          ],
          [
           "130.6h"
          ],
          [
           "15.0h"
          ],
          [
           "35.9h"
          ],
          [
           "38.9h"
          ],
          [
           "9.6h"
          ],
          [
           "70.5h"
          ],
          [
           "36.2h"
          ],
          [
           "55.2h"
          ],
          [
           "225.0h"
          ],
          [
           "39.9h"
          ],
          [
           "8.6h"
          ],
          [
           "34.9h"
          ],
          [
           "33.6h"
          ],
          [
           "10.9h"
          ],
          [
           "76.0h"
          ],
          [
           "9.4h"
          ],
          [
           "9.6h"
          ],
          [
           "147.2h"
          ],
          [
           "20.8h"
          ],
          [
           "33.2h"
          ],
          [
           "7.4h"
          ],
          [
           "51.6h"
          ],
          [
           "45.5h"
          ],
          [
           "46.8h"
          ],
          [
           "162.9h"
          ],
          [
           "85.6h"
          ],
          [
           "20.6h"
          ],
          [
           "17.2h"
          ],
          [
           "31.6h"
          ],
          [
           "11.6h"
          ],
          [
           "63.1h"
          ],
          [
           "55.7h"
          ],
          [
           "3.9h"
          ],
          [
           "35.0h"
          ],
          [
           "37.0h"
          ],
          [
           "50.4h"
          ],
          [
           "86.7h"
          ],
          [
           "7.5h"
          ],
          [
           "17.2h"
          ],
          [
           "6.2h"
          ],
          [
           "5.8h"
          ],
          [
           "9.9h"
          ],
          [
           "9.8h"
          ],
          [
           "34.0h"
          ],
          [
           "9.3h"
          ],
          [
           "22.8h"
          ],
          [
           "7.8h"
          ],
          [
           "9.9h"
          ],
          [
           "46.9h"
          ],
          [
           "23.6h"
          ],
          [
           "119.7h"
          ],
          [
           "10.5h"
          ],
          [
           "5.0h"
          ],
          [
           "8.4h"
          ],
          [
           "44.5h"
          ],
          [
           "20.9h"
          ],
          [
           "23.8h"
          ],
          [
           "50.3h"
          ],
          [
           "93.4h"
          ],
          [
           "53.1h"
          ],
          [
           "8.2h"
          ],
          [
           "12.5h"
          ],
          [
           "57.0h"
          ],
          [
           "39.0h"
          ],
          [
           "14.7h"
          ],
          [
           "37.8h"
          ],
          [
           "178.2h"
          ],
          [
           "20.2h"
          ],
          [
           "27.0h"
          ],
          [
           "25.5h"
          ],
          [
           "63.8h"
          ],
          [
           "3.1h"
          ],
          [
           "20.8h"
          ],
          [
           "9.8h"
          ],
          [
           "52.6h"
          ],
          [
           "35.8h"
          ],
          [
           "8.0h"
          ],
          [
           "10.4h"
          ],
          [
           "7.1h"
          ],
          [
           "9.9h"
          ],
          [
           "15.2h"
          ],
          [
           "9.6h"
          ],
          [
           "6.6h"
          ],
          [
           "14.0h"
          ],
          [
           "11.8h"
          ],
          [
           "37.1h"
          ],
          [
           "20.5h"
          ],
          [
           "5.6h"
          ],
          [
           "113.9h"
          ],
          [
           "20.8h"
          ],
          [
           "8.7h"
          ],
          [
           "23.2h"
          ],
          [
           "10.0h"
          ],
          [
           "17.0h"
          ],
          [
           "2.6h"
          ],
          [
           "47.8h"
          ],
          [
           "5.4h"
          ],
          [
           "106.3h"
          ],
          [
           "29.3h"
          ],
          [
           "5.9h"
          ],
          [
           "45.2h"
          ],
          [
           "8.1h"
          ],
          [
           "22.4h"
          ],
          [
           "79.8h"
          ],
          [
           "80.3h"
          ],
          [
           "14.8h"
          ],
          [
           "38.1h"
          ],
          [
           "23.3h"
          ],
          [
           "18.8h"
          ],
          [
           "11.2h"
          ],
          [
           "45.5h"
          ],
          [
           "5.8h"
          ],
          [
           "10.8h"
          ],
          [
           "43.5h"
          ],
          [
           "32.2h"
          ],
          [
           "29.0h"
          ],
          [
           "25.1h"
          ],
          [
           "2.5h"
          ],
          [
           "27.7h"
          ],
          [
           "48.2h"
          ],
          [
           "20.4h"
          ],
          [
           "53.8h"
          ],
          [
           "20.1h"
          ],
          [
           "2.0h"
          ],
          [
           "125.8h"
          ],
          [
           "28.6h"
          ],
          [
           "4.0h"
          ],
          [
           "46.7h"
          ],
          [
           "123.0h"
          ],
          [
           "146.8h"
          ],
          [
           "278.5h"
          ],
          [
           "18.9h"
          ]
         ],
         "hovertemplate": "<b>%{hovertext}</b><br><br>Število glasov=%{y}<br>Skupni čas trajanja (ure)=%{customdata[0]}<br>IMDB ocena=%{marker.color}<extra></extra>",
         "hovertext": [
          "Breaking Bad",
          "Planet Earth II",
          "Planet Earth",
          "Band of Brothers",
          "Chernobyl",
          "The Wire",
          "Avatar: The Last Airbender",
          "The Sopranos",
          "Blue Planet II",
          "Cosmos: A Spacetime Odyssey",
          "Cosmos",
          "Our Planet",
          "Game of Thrones",
          "Bluey",
          "The World at War",
          "Fullmetal Alchemist: Brotherhood",
          "Life",
          "The Last Dance",
          "Attack on Titan",
          "Rick and Morty",
          "The Twilight Zone",
          "The Vietnam War",
          "Sherlock",
          "Batman: The Animated Series",
          "Better Call Saul",
          "Arcane",
          "The Office",
          "The Blue Planet",
          "Clarkson's Farm",
          "Scam 1992: The Harshad Mehta Story",
          "Frozen Planet",
          "Human Planet",
          "Hunter x Hunter",
          "Only Fools and Horses",
          "Dexter: Resurrection",
          "Firefly",
          "The Civil War",
          "Death Note",
          "As If",
          "Gravity Falls",
          "Seinfeld",
          "The Pitt",
          "Dekalog",
          "The Beatles: Get Back",
          "True Detective",
          "Cowboy Bebop",
          "Nathan for You",
          "Fargo",
          "Taskmaster",
          "Frieren: Beyond Journey's End",
          "Persona",
          "Apocalypse: The Second World War",
          "Africa",
          "When They See Us",
          "Friends",
          "Last Week Tonight with John Oliver",
          "It's Always Sunny in Philadelphia",
          "The West Wing",
          "Succession",
          "TVF Pitchers",
          "Curb Your Enthusiasm",
          "Monty Python's Flying Circus",
          "Das Boot",
          "BoJack Horseman",
          "Fawlty Towers",
          "Panchayat",
          "When Life Gives You Tangerines",
          "Blackadder Goes Forth",
          "Leyla and Mecnun",
          "The Chosen",
          "Freaks and Geeks",
          "Pride and Prejudice",
          "Dragon Ball Z",
          "Twin Peaks",
          "Chappelle's Show",
          "Vinland Saga",
          "Gullak",
          "Narcos",
          "I, Claudius",
          "South Park",
          "Reply 1988",
          "Kota Factory",
          "Ted Lasso",
          "Over the Garden Wall",
          "Black Mirror",
          "Peaky Blinders",
          "Steins;Gate",
          "My Mister",
          "Six Feet Under",
          "Berserk",
          "Rome",
          "Oz",
          "X-Men '97",
          "Dark",
          "Fleabag",
          "The Shield",
          "Downton Abbey",
          "The Grand Tour",
          "Battlestar Galactica",
          "Severance",
          "Mad Men",
          "Peep Show",
          "Blue Eye Samurai",
          "Invincible",
          "Monster",
          "Naruto: Shippuden",
          "The Simpsons",
          "Star Trek: The Next Generation",
          "House",
          "Justice League Unlimited",
          "Arrested Development",
          "The Adventures of Sherlock Holmes",
          "One Punch Man",
          "Mahabharat",
          "Line of Duty",
          "Friday Night Lights",
          "Top Gear",
          "The Marvelous Mrs. Maisel",
          "How to with John Wilson",
          "Stranger Things",
          "The Boys",
          "The Thick of It",
          "This Is Us",
          "1883",
          "Father Ted",
          "Behzat Ç: An Ankara Detective Story",
          "Code Geass",
          "Sarabhai V/S Sarabhai",
          "Aspirants",
          "Adventure Time",
          "Ramayan",
          "Parks and Recreation",
          "The X-Files",
          "Dexter",
          "Atlanta",
          "The Mandalorian",
          "Deadwood",
          "Mr Inbetween",
          "House of Cards",
          "The Crown",
          "It's a Sin",
          "Daredevil",
          "The Bridge",
          "Fighting Spirit",
          "Poirot",
          "Primal",
          "Mindhunter",
          "Lonesome Dove",
          "Mr. Bean",
          "Shōgun",
          "The Offer",
          "Haikyu!!",
          "The Return of Sherlock Holmes",
          "Crash Landing on You",
          "The Penguin",
          "The Jinx: The Life and Deaths of Robert Durst",
          "Gomorrah",
          "Pose",
          "El Chavo del Ocho",
          "Yes Minister",
          "Scavengers Reign",
          "Greatest Events of WWII in Colour",
          "The Bureau",
          "Anne with an E",
          "The Newsroom",
          "Archer",
          "Homicide: Life on the Street",
          "Boardwalk Empire",
          "Dopesick",
          "Yeh Meri Family",
          "Justified",
          "The Bugs Bunny Show",
          "The Family Man",
          "Young Justice",
          "QI",
          "Andor",
          "Demon Slayer: Kimetsu no Yaiba",
          "What We Do in the Shadows",
          "Dragon Ball",
          "Battlestar Galactica",
          "Justice League",
          "The Haunting of Hill House",
          "Endeavour",
          "The Venture Bros.",
          "Yes, Prime Minister",
          "Samurai Champloo",
          "The Rehearsal",
          "Flight of the Conchords",
          "The Last of Us",
          "The IT Crowd",
          "The Queen's Gambit",
          "Coupling",
          "Rocket Boys",
          "Mr. Robot",
          "Black Sun",
          "I'm Alan Partridge",
          "Ezel",
          "Making a Murderer",
          "Detectorists",
          "Samurai Jack",
          "Solo Leveling",
          "Happy Valley",
          "Takopi's Original Sin",
          "Regular Show",
          "Long Way Round",
          "Impractical Jokers",
          "Spartacus",
          "Spaced",
          "Yellowstone",
          "Derry Girls",
          "The Bear",
          "Sons of Anarchy",
          "Whose Line Is It Anyway?",
          "Mob Psycho 100",
          "Alchemy of Souls",
          "Louie",
          "Jujutsu Kaisen",
          "The Eric Andre Show",
          "Through the Wormhole",
          "The Office",
          "Neon Genesis Evangelion",
          "Trailer Park Boys",
          "My Brilliant Friend",
          "Schitt's Creek",
          "Silicon Valley",
          "Brass Eye",
          "All Creatures Great & Small",
          "The Expanse",
          "Fullmetal Alchemist",
          "Futurama",
          "Skam",
          "Rurôni Kenshin: Meiji kenkaku romantan - Tsuioku-hen",
          "Shameless",
          "Hannibal",
          "North & South",
          "Formula 1: Drive to Survive",
          "Doctor Who",
          "Gintama",
          "Avrupa Yakasi",
          "Extraordinary Attorney Woo"
         ],
         "legendgroup": "",
         "marker": {
          "color": {
           "bdata": "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",
           "dtype": "f8"
          },
          "coloraxis": "coloraxis",
          "symbol": "circle"
         },
         "mode": "markers",
         "name": "",
         "orientation": "v",
         "showlegend": false,
         "type": "scatter",
         "x": {
          "bdata": "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",
          "dtype": "f8"
         },
         "xaxis": "x",
         "y": {
          "bdata": "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",
          "dtype": "f8"
         },
         "yaxis": "y"
        }
       ],
       "layout": {
        "coloraxis": {
         "colorbar": {
          "title": {
           "text": "IMDB ocena"
          }
         },
         "colorscale": [
          [
           0,
           "#440154"
          ],
          [
           0.1111111111111111,
           "#482878"
          ],
          [
           0.2222222222222222,
           "#3e4989"
          ],
          [
           0.3333333333333333,
           "#31688e"
          ],
          [
           0.4444444444444444,
           "#26828e"
          ],
          [
           0.5555555555555556,
           "#1f9e89"
          ],
          [
           0.6666666666666666,
           "#35b779"
          ],
          [
           0.7777777777777778,
           "#6ece58"
          ],
          [
           0.8888888888888888,
           "#b5de2b"
          ],
          [
           1,
           "#fde725"
          ]
         ]
        },
        "height": 800,
        "legend": {
         "tracegroupgap": 0
        },
        "template": {
         "data": {
          "bar": [
           {
            "error_x": {
             "color": "#2a3f5f"
            },
            "error_y": {
             "color": "#2a3f5f"
            },
            "marker": {
             "line": {
              "color": "#E5ECF6",
              "width": 0.5
             },
             "pattern": {
              "fillmode": "overlay",
              "size": 10,
              "solidity": 0.2
             }
            },
            "type": "bar"
           }
          ],
          "barpolar": [
           {
            "marker": {
             "line": {
              "color": "#E5ECF6",
              "width": 0.5
             },
             "pattern": {
              "fillmode": "overlay",
              "size": 10,
              "solidity": 0.2
             }
            },
            "type": "barpolar"
           }
          ],
          "carpet": [
           {
            "aaxis": {
             "endlinecolor": "#2a3f5f",
             "gridcolor": "white",
             "linecolor": "white",
             "minorgridcolor": "white",
             "startlinecolor": "#2a3f5f"
            },
            "baxis": {
             "endlinecolor": "#2a3f5f",
             "gridcolor": "white",
             "linecolor": "white",
             "minorgridcolor": "white",
             "startlinecolor": "#2a3f5f"
            },
            "type": "carpet"
           }
          ],
          "choropleth": [
           {
            "colorbar": {
             "outlinewidth": 0,
             "ticks": ""
            },
            "type": "choropleth"
           }
          ],
          "contour": [
           {
            "colorbar": {
             "outlinewidth": 0,
             "ticks": ""
            },
            "colorscale": [
             [
              0,
              "#0d0887"
             ],
             [
              0.1111111111111111,
              "#46039f"
             ],
             [
              0.2222222222222222,
              "#7201a8"
             ],
             [
              0.3333333333333333,
              "#9c179e"
             ],
             [
              0.4444444444444444,
              "#bd3786"
             ],
             [
              0.5555555555555556,
              "#d8576b"
             ],
             [
              0.6666666666666666,
              "#ed7953"
             ],
             [
              0.7777777777777778,
              "#fb9f3a"
             ],
             [
              0.8888888888888888,
              "#fdca26"
             ],
             [
              1,
              "#f0f921"
             ]
            ],
            "type": "contour"
           }
          ],
          "contourcarpet": [
           {
            "colorbar": {
             "outlinewidth": 0,
             "ticks": ""
            },
            "type": "contourcarpet"
           }
          ],
          "heatmap": [
           {
            "colorbar": {
             "outlinewidth": 0,
             "ticks": ""
            },
            "colorscale": [
             [
              0,
              "#0d0887"
             ],
             [
              0.1111111111111111,
              "#46039f"
             ],
             [
              0.2222222222222222,
              "#7201a8"
             ],
             [
              0.3333333333333333,
              "#9c179e"
             ],
             [
              0.4444444444444444,
              "#bd3786"
             ],
             [
              0.5555555555555556,
              "#d8576b"
             ],
             [
              0.6666666666666666,
              "#ed7953"
             ],
             [
              0.7777777777777778,
              "#fb9f3a"
             ],
             [
              0.8888888888888888,
              "#fdca26"
             ],
             [
              1,
              "#f0f921"
             ]
            ],
            "type": "heatmap"
           }
          ],
          "histogram": [
           {
            "marker": {
             "pattern": {
              "fillmode": "overlay",
              "size": 10,
              "solidity": 0.2
             }
            },
            "type": "histogram"
           }
          ],
          "histogram2d": [
           {
            "colorbar": {
             "outlinewidth": 0,
             "ticks": ""
            },
            "colorscale": [
             [
              0,
              "#0d0887"
             ],
             [
              0.1111111111111111,
              "#46039f"
             ],
             [
              0.2222222222222222,
              "#7201a8"
             ],
             [
              0.3333333333333333,
              "#9c179e"
             ],
             [
              0.4444444444444444,
              "#bd3786"
             ],
             [
              0.5555555555555556,
              "#d8576b"
             ],
             [
              0.6666666666666666,
              "#ed7953"
             ],
             [
              0.7777777777777778,
              "#fb9f3a"
             ],
             [
              0.8888888888888888,
              "#fdca26"
             ],
             [
              1,
              "#f0f921"
             ]
            ],
            "type": "histogram2d"
           }
          ],
          "histogram2dcontour": [
           {
            "colorbar": {
             "outlinewidth": 0,
             "ticks": ""
            },
            "colorscale": [
             [
              0,
              "#0d0887"
             ],
             [
              0.1111111111111111,
              "#46039f"
             ],
             [
              0.2222222222222222,
              "#7201a8"
             ],
             [
              0.3333333333333333,
              "#9c179e"
             ],
             [
              0.4444444444444444,
              "#bd3786"
             ],
             [
              0.5555555555555556,
              "#d8576b"
             ],
             [
              0.6666666666666666,
              "#ed7953"
             ],
             [
              0.7777777777777778,
              "#fb9f3a"
             ],
             [
              0.8888888888888888,
              "#fdca26"
             ],
             [
              1,
              "#f0f921"
             ]
            ],
            "type": "histogram2dcontour"
           }
          ],
          "mesh3d": [
           {
            "colorbar": {
             "outlinewidth": 0,
             "ticks": ""
            },
            "type": "mesh3d"
           }
          ],
          "parcoords": [
           {
            "line": {
             "colorbar": {
              "outlinewidth": 0,
              "ticks": ""
             }
            },
            "type": "parcoords"
           }
          ],
          "pie": [
           {
            "automargin": true,
            "type": "pie"
           }
          ],
          "scatter": [
           {
            "fillpattern": {
             "fillmode": "overlay",
             "size": 10,
             "solidity": 0.2
            },
            "type": "scatter"
           }
          ],
          "scatter3d": [
           {
            "line": {
             "colorbar": {
              "outlinewidth": 0,
              "ticks": ""
             }
            },
            "marker": {
             "colorbar": {
              "outlinewidth": 0,
              "ticks": ""
             }
            },
            "type": "scatter3d"
           }
          ],
          "scattercarpet": [
           {
            "marker": {
             "colorbar": {
              "outlinewidth": 0,
              "ticks": ""
             }
            },
            "type": "scattercarpet"
           }
          ],
          "scattergeo": [
           {
            "marker": {
             "colorbar": {
              "outlinewidth": 0,
              "ticks": ""
             }
            },
            "type": "scattergeo"
           }
          ],
          "scattergl": [
           {
            "marker": {
             "colorbar": {
              "outlinewidth": 0,
              "ticks": ""
             }
            },
            "type": "scattergl"
           }
          ],
          "scattermap": [
           {
            "marker": {
             "colorbar": {
              "outlinewidth": 0,
              "ticks": ""
             }
            },
            "type": "scattermap"
           }
          ],
          "scattermapbox": [
           {
            "marker": {
             "colorbar": {
              "outlinewidth": 0,
              "ticks": ""
             }
            },
            "type": "scattermapbox"
           }
          ],
          "scatterpolar": [
           {
            "marker": {
             "colorbar": {
              "outlinewidth": 0,
              "ticks": ""
             }
            },
            "type": "scatterpolar"
           }
          ],
          "scatterpolargl": [
           {
            "marker": {
             "colorbar": {
              "outlinewidth": 0,
              "ticks": ""
             }
            },
            "type": "scatterpolargl"
           }
          ],
          "scatterternary": [
           {
            "marker": {
             "colorbar": {
              "outlinewidth": 0,
              "ticks": ""
             }
            },
            "type": "scatterternary"
           }
          ],
          "surface": [
           {
            "colorbar": {
             "outlinewidth": 0,
             "ticks": ""
            },
            "colorscale": [
             [
              0,
              "#0d0887"
             ],
             [
              0.1111111111111111,
              "#46039f"
             ],
             [
              0.2222222222222222,
              "#7201a8"
             ],
             [
              0.3333333333333333,
              "#9c179e"
             ],
             [
              0.4444444444444444,
              "#bd3786"
             ],
             [
              0.5555555555555556,
              "#d8576b"
             ],
             [
              0.6666666666666666,
              "#ed7953"
             ],
             [
              0.7777777777777778,
              "#fb9f3a"
             ],
             [
              0.8888888888888888,
              "#fdca26"
             ],
             [
              1,
              "#f0f921"
             ]
            ],
            "type": "surface"
           }
          ],
          "table": [
           {
            "cells": {
             "fill": {
              "color": "#EBF0F8"
             },
             "line": {
              "color": "white"
             }
            },
            "header": {
             "fill": {
              "color": "#C8D4E3"
             },
             "line": {
              "color": "white"
             }
            },
            "type": "table"
           }
          ]
         },
         "layout": {
          "annotationdefaults": {
           "arrowcolor": "#2a3f5f",
           "arrowhead": 0,
           "arrowwidth": 1
          },
          "autotypenumbers": "strict",
          "coloraxis": {
           "colorbar": {
            "outlinewidth": 0,
            "ticks": ""
           }
          },
          "colorscale": {
           "diverging": [
            [
             0,
             "#8e0152"
            ],
            [
             0.1,
             "#c51b7d"
            ],
            [
             0.2,
             "#de77ae"
            ],
            [
             0.3,
             "#f1b6da"
            ],
            [
             0.4,
             "#fde0ef"
            ],
            [
             0.5,
             "#f7f7f7"
            ],
            [
             0.6,
             "#e6f5d0"
            ],
            [
             0.7,
             "#b8e186"
            ],
            [
             0.8,
             "#7fbc41"
            ],
            [
             0.9,
             "#4d9221"
            ],
            [
             1,
             "#276419"
            ]
           ],
           "sequential": [
            [
             0,
             "#0d0887"
            ],
            [
             0.1111111111111111,
             "#46039f"
            ],
            [
             0.2222222222222222,
             "#7201a8"
            ],
            [
             0.3333333333333333,
             "#9c179e"
            ],
            [
             0.4444444444444444,
             "#bd3786"
            ],
            [
             0.5555555555555556,
             "#d8576b"
            ],
            [
             0.6666666666666666,
             "#ed7953"
            ],
            [
             0.7777777777777778,
             "#fb9f3a"
            ],
            [
             0.8888888888888888,
             "#fdca26"
            ],
            [
             1,
             "#f0f921"
            ]
           ],
           "sequentialminus": [
            [
             0,
             "#0d0887"
            ],
            [
             0.1111111111111111,
             "#46039f"
            ],
            [
             0.2222222222222222,
             "#7201a8"
            ],
            [
             0.3333333333333333,
             "#9c179e"
            ],
            [
             0.4444444444444444,
             "#bd3786"
            ],
            [
             0.5555555555555556,
             "#d8576b"
            ],
            [
             0.6666666666666666,
             "#ed7953"
            ],
            [
             0.7777777777777778,
             "#fb9f3a"
            ],
            [
             0.8888888888888888,
             "#fdca26"
            ],
            [
             1,
             "#f0f921"
            ]
           ]
          },
          "colorway": [
           "#636efa",
           "#EF553B",
           "#00cc96",
           "#ab63fa",
           "#FFA15A",
           "#19d3f3",
           "#FF6692",
           "#B6E880",
           "#FF97FF",
           "#FECB52"
          ],
          "font": {
           "color": "#2a3f5f"
          },
          "geo": {
           "bgcolor": "white",
           "lakecolor": "white",
           "landcolor": "#E5ECF6",
           "showlakes": true,
           "showland": true,
           "subunitcolor": "white"
          },
          "hoverlabel": {
           "align": "left"
          },
          "hovermode": "closest",
          "mapbox": {
           "style": "light"
          },
          "paper_bgcolor": "white",
          "plot_bgcolor": "#E5ECF6",
          "polar": {
           "angularaxis": {
            "gridcolor": "white",
            "linecolor": "white",
            "ticks": ""
           },
           "bgcolor": "#E5ECF6",
           "radialaxis": {
            "gridcolor": "white",
            "linecolor": "white",
            "ticks": ""
           }
          },
          "scene": {
           "xaxis": {
            "backgroundcolor": "#E5ECF6",
            "gridcolor": "white",
            "gridwidth": 2,
            "linecolor": "white",
            "showbackground": true,
            "ticks": "",
            "zerolinecolor": "white"
           },
           "yaxis": {
            "backgroundcolor": "#E5ECF6",
            "gridcolor": "white",
            "gridwidth": 2,
            "linecolor": "white",
            "showbackground": true,
            "ticks": "",
            "zerolinecolor": "white"
           },
           "zaxis": {
            "backgroundcolor": "#E5ECF6",
            "gridcolor": "white",
            "gridwidth": 2,
            "linecolor": "white",
            "showbackground": true,
            "ticks": "",
            "zerolinecolor": "white"
           }
          },
          "shapedefaults": {
           "line": {
            "color": "#2a3f5f"
           }
          },
          "ternary": {
           "aaxis": {
            "gridcolor": "white",
            "linecolor": "white",
            "ticks": ""
           },
           "baxis": {
            "gridcolor": "white",
            "linecolor": "white",
            "ticks": ""
           },
           "bgcolor": "#E5ECF6",
           "caxis": {
            "gridcolor": "white",
            "linecolor": "white",
            "ticks": ""
           }
          },
          "title": {
           "x": 0.05
          },
          "xaxis": {
           "automargin": true,
           "gridcolor": "white",
           "linecolor": "white",
           "ticks": "",
           "title": {
            "standoff": 15
           },
           "zerolinecolor": "white",
           "zerolinewidth": 2
          },
          "yaxis": {
           "automargin": true,
           "gridcolor": "white",
           "linecolor": "white",
           "ticks": "",
           "title": {
            "standoff": 15
           },
           "zerolinecolor": "white",
           "zerolinewidth": 2
          }
         }
        },
        "title": {
         "text": "Primerjava trajanja, števila glasov in IMDB ocen (linearno normalizirane osi)"
        },
        "width": 1600,
        "xaxis": {
         "anchor": "y",
         "domain": [
          0,
          1
         ],
         "title": {
          "text": "trajanje_ure"
         }
        },
        "yaxis": {
         "anchor": "x",
         "domain": [
          0,
          1
         ],
         "title": {
          "text": "Število glasov"
         }
        }
       }
      }
     },
     "metadata": {},
     "output_type": "display_data"
    },
    {
     "data": {
      "application/vnd.plotly.v1+json": {
       "config": {
        "plotlyServerURL": "https://plot.ly"
       },
       "data": [
        {
         "customdata": [
          [
           "2.4M",
           "49.9h",
           9.5,
           49.916666666666664,
           2400000
          ],
          [
           "167.0k",
           "5.0h",
           9.4,
           5,
           167000
          ],
          [
           "229.0k",
           "9.3h",
           9.4,
           9.333333333333334,
           229000
          ],
          [
           "568.0k",
           "10.4h",
           9.4,
           10.366666666666667,
           568000
          ],
          [
           "962.0k",
           "5.5h",
           9.3,
           5.516666666666667,
           962000
          ],
          [
           "405.0k",
           "60.0h",
           9.3,
           59.96666666666667,
           405000
          ],
          [
           "412.0k",
           "24.9h",
           9.3,
           24.933333333333334,
           412000
          ],
          [
           "535.0k",
           "77.6h",
           9.2,
           77.6,
           535000
          ],
          [
           "52.7k",
           "6.1h",
           9.3,
           6.133333333333334,
           52700
          ],
          [
           "134.0k",
           "19.0h",
           9.2,
           18.95,
           134000
          ],
          [
           "48.2k",
           "13.0h",
           9.3,
           13,
           48200
          ],
          [
           "56.6k",
           "10.0h",
           9.2,
           10.016666666666667,
           56600
          ],
          [
           "2.5M",
           "70.5h",
           9.2,
           70.53333333333333,
           2500000
          ],
          [
           "40.1k",
           "18.3h",
           9.3,
           18.266666666666666,
           40100
          ],
          [
           "33.2k",
           "24.0h",
           9.2,
           24.05,
           33200
          ],
          [
           "225.0k",
           "26.7h",
           9.1,
           26.666666666666668,
           225000
          ],
          [
           "45.9k",
           "9.7h",
           9.1,
           9.683333333333334,
           45900
          ],
          [
           "166.0k",
           "8.4h",
           9,
           8.416666666666666,
           166000
          ],
          [
           "631.0k",
           "34.8h",
           9.1,
           34.78333333333333,
           631000
          ],
          [
           "661.0k",
           "30.6h",
           9,
           30.566666666666666,
           661000
          ],
          [
           "102.0k",
           "75.6h",
           9,
           75.6,
           102000
          ],
          [
           "31.0k",
           "16.9h",
           9.1,
           16.883333333333333,
           31000
          ],
          [
           "1.1M",
           "17.8h",
           9,
           17.766666666666666,
           1100000
          ],
          [
           "129.0k",
           "31.2h",
           9,
           31.166666666666668,
           129000
          ],
          [
           "747.0k",
           "53.0h",
           9,
           52.96666666666667,
           747000
          ],
          [
           "405.0k",
           "12.6h",
           9,
           12.633333333333333,
           405000
          ],
          [
           "784.0k",
           "74.4h",
           9,
           74.38333333333334,
           784000
          ],
          [
           "46.2k",
           "6.7h",
           9,
           6.666666666666667,
           46200
          ],
          [
           "74.8k",
           "25.4h",
           9,
           25.416666666666668,
           74800
          ],
          [
           "165.0k",
           "8.8h",
           9.2,
           8.783333333333333,
           165000
          ],
          [
           "35.6k",
           "6.8h",
           9,
           6.833333333333333,
           35600
          ],
          [
           "29.7k",
           "7.8h",
           9,
           7.8,
           29700
          ],
          [
           "167.0k",
           "58.4h",
           9,
           58.38333333333333,
           167000
          ],
          [
           "59.9k",
           "26.3h",
           9,
           26.266666666666666,
           59900
          ],
          [
           "14.5k",
           "4.5h",
           9.1,
           4.483333333333333,
           14500
          ],
          [
           "292.0k",
           "8.7h",
           8.9,
           8.733333333333333,
           292000
          ],
          [
           "21.2k",
           "11.5h",
           9,
           11.5,
           21200
          ],
          [
           "428.0k",
           "14.1h",
           8.9,
           14.133333333333333,
           428000
          ],
          [
           "30.0k",
           "50.4h",
           9,
           50.45,
           30000
          ],
          [
           "161.0k",
           "15.7h",
           8.9,
           15.7,
           161000
          ],
          [
           "372.0k",
           "71.9h",
           8.9,
           71.9,
           372000
          ],
          [
           "55.8k",
           "12.3h",
           8.9,
           12.283333333333333,
           55800
          ],
          [
           "29.1k",
           "9.8h",
           8.9,
           9.8,
           29100
          ],
          [
           "32.5k",
           "7.8h",
           8.9,
           7.8,
           32500
          ],
          [
           "712.0k",
           "29.6h",
           8.9,
           29.55,
           712000
          ],
          [
           "157.0k",
           "10.8h",
           8.9,
           10.833333333333334,
           157000
          ],
          [
           "43.1k",
           "11.9h",
           8.9,
           11.9,
           43100
          ],
          [
           "448.0k",
           "44.6h",
           8.8,
           44.56666666666667,
           448000
          ],
          [
           "25.1k",
           "129.7h",
           9,
           129.73333333333332,
           25100
          ],
          [
           "45.3k",
           "11.7h",
           8.9,
           11.683333333333334,
           45300
          ],
          [
           "50.8k",
           "21.1h",
           9,
           21.133333333333333,
           50800
          ],
          [
           "15.5k",
           "5.3h",
           9,
           5.316666666666666,
           15500
          ],
          [
           "19.0k",
           "5.7h",
           8.9,
           5.733333333333333,
           19000
          ],
          [
           "148.0k",
           "5.0h",
           8.8,
           5,
           148000
          ],
          [
           "1.2M",
           "90.1h",
           8.9,
           90.13333333333334,
           1200000
          ],
          [
           "101.0k",
           "184.2h",
           8.8,
           184.16666666666666,
           101000
          ],
          [
           "269.0k",
           "63.8h",
           8.8,
           63.833333333333336,
           269000
          ],
          [
           "92.3k",
           "103.9h",
           8.9,
           103.9,
           92300
          ],
          [
           "325.0k",
           "39.8h",
           8.8,
           39.75,
           325000
          ],
          [
           "72.1k",
           "8.6h",
           9.1,
           8.583333333333334,
           72100
          ],
          [
           "310.0k",
           "456.2h",
           9,
           456.23333333333335,
           310000
          ],
          [
           "159.0k",
           "66.0h",
           8.8,
           66.01666666666667,
           159000
          ],
          [
           "82.0k",
           "21.9h",
           8.8,
           21.9,
           82000
          ],
          [
           "34.5k",
           "5.2h",
           8.8,
           5.2,
           34500
          ],
          [
           "214.0k",
           "32.8h",
           8.8,
           32.85,
           214000
          ],
          [
           "105.0k",
           "6.2h",
           8.8,
           6.233333333333333,
           105000
          ],
          [
           "103.0k",
           "19.1h",
           9,
           19.133333333333333,
           103000
          ],
          [
           "21.0k",
           "16.5h",
           9.2,
           16.483333333333334,
           21000
          ],
          [
           "57.3k",
           "2.9h",
           8.8,
           2.9166666666666665,
           57300
          ],
          [
           "99.6k",
           "186.9h",
           9,
           186.86666666666667,
           99600
          ],
          [
           "60.3k",
           "38.7h",
           9.1,
           38.666666666666664,
           60300
          ],
          [
           "158.0k",
           "13.2h",
           8.8,
           13.2,
           158000
          ],
          [
           "98.5k",
           "5.5h",
           8.8,
           5.5,
           98500
          ],
          [
           "97.4k",
           "122.0h",
           8.8,
           122.03333333333333,
           97400
          ],
          [
           "233.0k",
           "42.7h",
           8.7,
           42.666666666666664,
           233000
          ],
          [
           "76.4k",
           "10.3h",
           8.8,
           10.266666666666667,
           76400
          ],
          [
           "106.0k",
           "20.5h",
           8.8,
           20.466666666666665,
           106000
          ],
          [
           "25.6k",
           "10.2h",
           9.1,
           10.166666666666666,
           25600
          ],
          [
           "506.0k",
           "26.1h",
           8.7,
           26.133333333333333,
           506000
          ],
          [
           "21.2k",
           "11.6h",
           8.8,
           11.583333333333334,
           21200
          ],
          [
           "426.0k",
           "119.5h",
           8.7,
           119.53333333333333,
           426000
          ],
          [
           "15.1k",
           "31.7h",
           9,
           31.7,
           15100
          ],
          [
           "86.7k",
           "10.6h",
           9,
           10.616666666666667,
           86700
          ],
          [
           "410.0k",
           "25.0h",
           8.8,
           25.016666666666666,
           410000
          ],
          [
           "81.5k",
           "1.8h",
           8.7,
           1.8333333333333333,
           81500
          ],
          [
           "703.0k",
           "32.1h",
           8.7,
           32.083333333333336,
           703000
          ],
          [
           "723.0k",
           "34.7h",
           8.7,
           34.666666666666664,
           723000
          ],
          [
           "83.6k",
           "9.6h",
           8.8,
           9.6,
           83600
          ],
          [
           "11.6k",
           "21.2h",
           9,
           21.15,
           11600
          ],
          [
           "160.0k",
           "56.4h",
           8.7,
           56.35,
           160000
          ],
          [
           "67.2k",
           "10.0h",
           8.7,
           9.95,
           67200
          ],
          [
           "197.0k",
           "19.6h",
           8.7,
           19.633333333333333,
           197000
          ],
          [
           "112.0k",
           "54.0h",
           8.7,
           53.983333333333334,
           112000
          ],
          [
           "46.5k",
           "5.7h",
           8.7,
           5.716666666666667,
           46500
          ],
          [
           "499.0k",
           "24.4h",
           8.7,
           24.416666666666668,
           499000
          ],
          [
           "227.0k",
           "5.0h",
           8.7,
           4.966666666666667,
           227000
          ],
          [
           "92.9k",
           "69.8h",
           8.7,
           69.81666666666666,
           92900
          ],
          [
           "236.0k",
           "43.6h",
           8.7,
           43.56666666666667,
           236000
          ],
          [
           "91.2k",
           "51.9h",
           8.7,
           51.9,
           91200
          ],
          [
           "183.0k",
           "54.8h",
           8.7,
           54.75,
           183000
          ],
          [
           "333.0k",
           "15.6h",
           8.7,
           15.6,
           333000
          ],
          [
           "278.0k",
           "73.8h",
           8.7,
           73.75,
           278000
          ],
          [
           "68.1k",
           "22.0h",
           8.7,
           21.966666666666665,
           68100
          ],
          [
           "93.8k",
           "6.4h",
           8.7,
           6.383333333333334,
           93800
          ],
          [
           "283.0k",
           "19.9h",
           8.7,
           19.933333333333334,
           283000
          ],
          [
           "51.4k",
           "29.6h",
           8.7,
           29.6,
           51400
          ],
          [
           "202.0k",
           "191.7h",
           8.7,
           191.66666666666666,
           202000
          ],
          [
           "457.0k",
           "297.6h",
           8.6,
           297.55,
           457000
          ],
          [
           "144.0k",
           "135.8h",
           8.7,
           135.75,
           144000
          ],
          [
           "565.0k",
           "130.6h",
           8.7,
           130.58333333333334,
           565000
          ],
          [
           "23.4k",
           "15.0h",
           8.7,
           14.95,
           23400
          ],
          [
           "336.0k",
           "35.9h",
           8.7,
           35.916666666666664,
           336000
          ],
          [
           "25.6k",
           "38.9h",
           8.7,
           38.88333333333333,
           25600
          ],
          [
           "205.0k",
           "9.6h",
           8.7,
           9.6,
           205000
          ],
          [
           "23.8k",
           "70.5h",
           9,
           70.5,
           23800
          ],
          [
           "75.8k",
           "36.2h",
           8.7,
           36.233333333333334,
           75800
          ],
          [
           "75.2k",
           "55.2h",
           8.7,
           55.166666666666664,
           75200
          ],
          [
           "133.0k",
           "225.0h",
           8.7,
           225.01666666666668,
           133000
          ],
          [
           "153.0k",
           "39.9h",
           8.7,
           39.916666666666664,
           153000
          ],
          [
           "15.2k",
           "8.6h",
           8.7,
           8.55,
           15200
          ],
          [
           "1.5M",
           "34.9h",
           8.6,
           34.9,
           1500000
          ],
          [
           "791.0k",
           "33.6h",
           8.6,
           33.55,
           791000
          ],
          [
           "28.1k",
           "10.9h",
           8.7,
           10.866666666666667,
           28100
          ],
          [
           "168.0k",
           "76.0h",
           8.7,
           76,
           168000
          ],
          [
           "145.0k",
           "9.4h",
           8.7,
           9.35,
           145000
          ],
          [
           "46.0k",
           "9.6h",
           8.7,
           9.633333333333333,
           46000
          ],
          [
           "33.7k",
           "147.2h",
           8.8,
           147.16666666666666,
           33700
          ],
          [
           "92.9k",
           "20.8h",
           8.7,
           20.833333333333332,
           92900
          ],
          [
           "18.4k",
           "33.2h",
           8.9,
           33.25,
           18400
          ],
          [
           "314.0k",
           "7.4h",
           9.2,
           7.383333333333334,
           314000
          ],
          [
           "125.0k",
           "51.6h",
           8.6,
           51.63333333333333,
           125000
          ],
          [
           "24.6k",
           "45.5h",
           9,
           45.5,
           24600
          ],
          [
           "305.0k",
           "46.8h",
           8.6,
           46.75,
           305000
          ],
          [
           "264.0k",
           "162.9h",
           8.6,
           162.93333333333334,
           264000
          ],
          [
           "855.0k",
           "85.6h",
           8.6,
           85.6,
           855000
          ],
          [
           "95.1k",
           "20.6h",
           8.6,
           20.6,
           95100
          ],
          [
           "631.0k",
           "17.2h",
           8.6,
           17.15,
           631000
          ],
          [
           "124.0k",
           "31.6h",
           8.6,
           31.616666666666667,
           124000
          ],
          [
           "37.9k",
           "11.6h",
           8.7,
           11.6,
           37900
          ],
          [
           "548.0k",
           "63.1h",
           8.6,
           63.11666666666667,
           548000
          ],
          [
           "272.0k",
           "55.7h",
           8.6,
           55.68333333333333,
           272000
          ],
          [
           "39.2k",
           "3.9h",
           8.6,
           3.8833333333333333,
           39200
          ],
          [
           "510.0k",
           "35.0h",
           8.6,
           35,
           510000
          ],
          [
           "79.5k",
           "37.0h",
           8.6,
           37.016666666666666,
           79500
          ],
          [
           "12.8k",
           "50.4h",
           8.8,
           50.4,
           12800
          ],
          [
           "55.0k",
           "86.7h",
           8.6,
           86.66666666666667,
           55000
          ],
          [
           "24.7k",
           "7.5h",
           8.6,
           7.5,
           24700
          ],
          [
           "369.0k",
           "17.2h",
           8.6,
           17.183333333333334,
           369000
          ],
          [
           "28.2k",
           "6.2h",
           8.7,
           6.2,
           28200
          ],
          [
           "144.0k",
           "5.8h",
           8.6,
           5.85,
           144000
          ],
          [
           "224.0k",
           "9.9h",
           8.6,
           9.916666666666666,
           224000
          ],
          [
           "44.1k",
           "9.8h",
           8.6,
           9.75,
           44100
          ],
          [
           "44.9k",
           "34.0h",
           8.7,
           34,
           44900
          ],
          [
           "13.7k",
           "9.3h",
           8.7,
           9.3,
           13700
          ],
          [
           "50.9k",
           "22.8h",
           8.7,
           22.816666666666666,
           50900
          ],
          [
           "203.0k",
           "7.8h",
           8.6,
           7.766666666666667,
           203000
          ],
          [
           "56.1k",
           "9.9h",
           8.6,
           9.866666666666667,
           56100
          ],
          [
           "47.5k",
           "46.9h",
           8.6,
           46.916666666666664,
           47500
          ],
          [
           "35.0k",
           "23.6h",
           8.6,
           23.65,
           35000
          ],
          [
           "13.5k",
           "119.7h",
           8.7,
           119.68333333333334,
           13500
          ],
          [
           "17.7k",
           "10.5h",
           8.6,
           10.5,
           17700
          ],
          [
           "29.8k",
           "5.0h",
           8.6,
           5.033333333333333,
           29800
          ],
          [
           "11.7k",
           "8.4h",
           8.6,
           8.366666666666667,
           11700
          ],
          [
           "16.9k",
           "44.5h",
           8.7,
           44.483333333333334,
           16900
          ],
          [
           "74.0k",
           "20.9h",
           8.6,
           20.866666666666667,
           74000
          ],
          [
           "131.0k",
           "23.8h",
           8.6,
           23.783333333333335,
           131000
          ],
          [
           "172.0k",
           "50.3h",
           8.6,
           50.28333333333333,
           172000
          ],
          [
           "15.6k",
           "93.4h",
           8.7,
           93.36666666666666,
           15600
          ],
          [
           "13.9k",
           "1525.7h",
           9.1,
           1525.6833333333334,
           13900
          ],
          [
           "212.0k",
           "53.1h",
           8.6,
           53.11666666666667,
           212000
          ],
          [
           "86.8k",
           "8.2h",
           8.6,
           8.2,
           86800
          ],
          [
           "27.0k",
           "330.1h",
           8.6,
           330.1,
           27000
          ],
          [
           "26.2k",
           "12.5h",
           9,
           12.483333333333333,
           26200
          ],
          [
           "126.0k",
           "57.0h",
           8.6,
           57.016666666666666,
           126000
          ],
          [
           "36.7k",
           "39.0h",
           8.6,
           39,
           36700
          ],
          [
           "101.0k",
           "14.7h",
           8.7,
           14.716666666666667,
           101000
          ],
          [
           "48.8k",
           "37.8h",
           8.6,
           37.766666666666666,
           48800
          ],
          [
           "35.0k",
           "178.2h",
           8.6,
           178.23333333333332,
           35000
          ],
          [
           "240.0k",
           "20.2h",
           8.6,
           20.2,
           240000
          ],
          [
           "194.0k",
           "27.0h",
           8.6,
           26.95,
           194000
          ],
          [
           "120.0k",
           "25.5h",
           8.6,
           25.5,
           120000
          ],
          [
           "72.9k",
           "63.8h",
           8.5,
           63.75,
           72900
          ],
          [
           "83.2k",
           "3.1h",
           8.5,
           3.0833333333333335,
           83200
          ],
          [
           "54.6k",
           "20.8h",
           8.5,
           20.8,
           54600
          ],
          [
           "312.0k",
           "9.8h",
           8.5,
           9.75,
           312000
          ],
          [
           "36.0k",
           "52.6h",
           8.6,
           52.56666666666667,
           36000
          ],
          [
           "29.6k",
           "35.8h",
           8.6,
           35.833333333333336,
           29600
          ],
          [
           "13.5k",
           "8.0h",
           8.6,
           8,
           13500
          ],
          [
           "60.5k",
           "10.4h",
           8.5,
           10.4,
           60500
          ],
          [
           "28.9k",
           "7.1h",
           8.5,
           7.133333333333334,
           28900
          ],
          [
           "67.8k",
           "9.9h",
           8.5,
           9.866666666666667,
           67800
          ],
          [
           "687.0k",
           "15.2h",
           8.5,
           15.25,
           687000
          ],
          [
           "172.0k",
           "9.6h",
           8.5,
           9.633333333333333,
           172000
          ],
          [
           "626.0k",
           "6.6h",
           8.5,
           6.583333333333333,
           626000
          ],
          [
           "48.9k",
           "14.0h",
           8.5,
           14,
           48900
          ],
          [
           "18.5k",
           "11.8h",
           8.9,
           11.75,
           18500
          ],
          [
           "446.0k",
           "37.1h",
           8.5,
           37.083333333333336,
           446000
          ],
          [
           "12.6k",
           "20.5h",
           8.8,
           20.5,
           12600
          ],
          [
           "22.3k",
           "5.6h",
           8.6,
           5.633333333333334,
           22300
          ],
          [
           "38.9k",
           "113.9h",
           8.7,
           113.93333333333334,
           38900
          ],
          [
           "105.0k",
           "20.8h",
           8.5,
           20.85,
           105000
          ],
          [
           "23.2k",
           "8.7h",
           8.6,
           8.683333333333334,
           23200
          ],
          [
           "63.5k",
           "23.2h",
           8.5,
           23.166666666666668,
           63500
          ],
          [
           "83.7k",
           "10.0h",
           8.6,
           10,
           83700
          ],
          [
           "69.2k",
           "17.0h",
           8.5,
           17.033333333333335,
           69200
          ],
          [
           "7.9k",
           "2.6h",
           9.3,
           2.55,
           7900
          ],
          [
           "66.5k",
           "47.8h",
           8.6,
           47.833333333333336,
           66500
          ],
          [
           "15.6k",
           "5.4h",
           8.6,
           5.35,
           15600
          ],
          [
           "49.7k",
           "106.3h",
           8.5,
           106.26666666666667,
           49700
          ],
          [
           "268.0k",
           "29.3h",
           8.5,
           29.283333333333335,
           268000
          ],
          [
           "59.5k",
           "5.9h",
           8.5,
           5.933333333333334,
           59500
          ],
          [
           "283.0k",
           "45.2h",
           8.6,
           45.2,
           283000
          ],
          [
           "68.6k",
           "8.1h",
           8.5,
           8.066666666666666,
           68600
          ],
          [
           "283.0k",
           "22.4h",
           8.5,
           22.383333333333333,
           283000
          ],
          [
           "343.0k",
           "79.8h",
           8.5,
           79.78333333333333,
           343000
          ],
          [
           "48.0k",
           "80.3h",
           8.5,
           80.3,
           48000
          ],
          [
           "56.2k",
           "14.8h",
           8.5,
           14.8,
           56200
          ],
          [
           "22.3k",
           "38.1h",
           8.7,
           38.13333333333333,
           22300
          ],
          [
           "84.3k",
           "23.3h",
           8.5,
           23.3,
           84300
          ],
          [
           "160.0k",
           "18.8h",
           8.5,
           18.833333333333332,
           160000
          ],
          [
           "23.3k",
           "11.2h",
           8.5,
           11.15,
           23300
          ],
          [
           "18.6k",
           "45.5h",
           8.6,
           45.46666666666667,
           18600
          ],
          [
           "129.0k",
           "5.8h",
           8.5,
           5.833333333333333,
           129000
          ],
          [
           "100.0k",
           "10.8h",
           8.5,
           10.833333333333334,
           100000
          ],
          [
           "53.3k",
           "43.5h",
           8.5,
           43.53333333333333,
           53300
          ],
          [
           "21.9k",
           "32.2h",
           8.6,
           32.21666666666667,
           21900
          ],
          [
           "161.0k",
           "29.0h",
           8.5,
           28.966666666666665,
           161000
          ],
          [
           "176.0k",
           "25.1h",
           8.5,
           25.1,
           176000
          ],
          [
           "12.2k",
           "2.5h",
           8.6,
           2.5,
           12200
          ],
          [
           "20.2k",
           "27.7h",
           8.6,
           27.716666666666665,
           20200
          ],
          [
           "185.0k",
           "48.2h",
           8.5,
           48.21666666666667,
           185000
          ],
          [
           "82.9k",
           "20.4h",
           8.5,
           20.4,
           82900
          ],
          [
           "273.0k",
           "53.8h",
           8.5,
           53.78333333333333,
           273000
          ],
          [
           "40.5k",
           "20.1h",
           8.6,
           20.083333333333332,
           40500
          ],
          [
           "16.6k",
           "2.0h",
           8.6,
           2.0166666666666666,
           16600
          ],
          [
           "315.0k",
           "125.8h",
           8.5,
           125.81666666666666,
           315000
          ],
          [
           "295.0k",
           "28.6h",
           8.5,
           28.566666666666666,
           295000
          ],
          [
           "35.6k",
           "4.0h",
           8.6,
           4,
           35600
          ],
          [
           "57.3k",
           "46.7h",
           8.5,
           46.733333333333334,
           57300
          ],
          [
           "259.0k",
           "123.0h",
           8.5,
           123,
           259000
          ],
          [
           "18.5k",
           "146.8h",
           8.7,
           146.8,
           18500
          ],
          [
           "23.0k",
           "278.5h",
           8.6,
           278.51666666666665,
           23000
          ],
          [
           "33.8k",
           "18.9h",
           8.6,
           18.9,
           33800
          ]
         ],
         "hovertemplate": "<b>%{hovertext}</b><br><br>Št. glasov=%{customdata[0]}<br>Trajanje (ure)=%{customdata[1]}<br>IMDB ocena=%{marker.color}<extra></extra>",
         "hovertext": [
          "Breaking Bad",
          "Planet Earth II",
          "Planet Earth",
          "Band of Brothers",
          "Chernobyl",
          "The Wire",
          "Avatar: The Last Airbender",
          "The Sopranos",
          "Blue Planet II",
          "Cosmos: A Spacetime Odyssey",
          "Cosmos",
          "Our Planet",
          "Game of Thrones",
          "Bluey",
          "The World at War",
          "Fullmetal Alchemist: Brotherhood",
          "Life",
          "The Last Dance",
          "Attack on Titan",
          "Rick and Morty",
          "The Twilight Zone",
          "The Vietnam War",
          "Sherlock",
          "Batman: The Animated Series",
          "Better Call Saul",
          "Arcane",
          "The Office",
          "The Blue Planet",
          "Clarkson's Farm",
          "Scam 1992: The Harshad Mehta Story",
          "Frozen Planet",
          "Human Planet",
          "Hunter x Hunter",
          "Only Fools and Horses",
          "Dexter: Resurrection",
          "Firefly",
          "The Civil War",
          "Death Note",
          "As If",
          "Gravity Falls",
          "Seinfeld",
          "The Pitt",
          "Dekalog",
          "The Beatles: Get Back",
          "True Detective",
          "Cowboy Bebop",
          "Nathan for You",
          "Fargo",
          "Taskmaster",
          "Frieren: Beyond Journey's End",
          "Persona",
          "Apocalypse: The Second World War",
          "Africa",
          "When They See Us",
          "Friends",
          "Last Week Tonight with John Oliver",
          "It's Always Sunny in Philadelphia",
          "The West Wing",
          "Succession",
          "TVF Pitchers",
          "One Piece",
          "Curb Your Enthusiasm",
          "Monty Python's Flying Circus",
          "Das Boot",
          "BoJack Horseman",
          "Fawlty Towers",
          "Panchayat",
          "When Life Gives You Tangerines",
          "Blackadder Goes Forth",
          "Leyla and Mecnun",
          "The Chosen",
          "Freaks and Geeks",
          "Pride and Prejudice",
          "Dragon Ball Z",
          "Twin Peaks",
          "Chappelle's Show",
          "Vinland Saga",
          "Gullak",
          "Narcos",
          "I, Claudius",
          "South Park",
          "Reply 1988",
          "Kota Factory",
          "Ted Lasso",
          "Over the Garden Wall",
          "Black Mirror",
          "Peaky Blinders",
          "Steins;Gate",
          "My Mister",
          "Six Feet Under",
          "Berserk",
          "Rome",
          "Oz",
          "X-Men '97",
          "Dark",
          "Fleabag",
          "The Shield",
          "Downton Abbey",
          "The Grand Tour",
          "Battlestar Galactica",
          "Severance",
          "Mad Men",
          "Peep Show",
          "Blue Eye Samurai",
          "Invincible",
          "Monster",
          "Naruto: Shippuden",
          "The Simpsons",
          "Star Trek: The Next Generation",
          "House",
          "Justice League Unlimited",
          "Arrested Development",
          "The Adventures of Sherlock Holmes",
          "One Punch Man",
          "Mahabharat",
          "Line of Duty",
          "Friday Night Lights",
          "Top Gear",
          "The Marvelous Mrs. Maisel",
          "How to with John Wilson",
          "Stranger Things",
          "The Boys",
          "The Thick of It",
          "This Is Us",
          "1883",
          "Father Ted",
          "Behzat Ç: An Ankara Detective Story",
          "Code Geass",
          "Sarabhai V/S Sarabhai",
          "Aspirants",
          "Adventure Time",
          "Ramayan",
          "Parks and Recreation",
          "The X-Files",
          "Dexter",
          "Atlanta",
          "The Mandalorian",
          "Deadwood",
          "Mr Inbetween",
          "House of Cards",
          "The Crown",
          "It's a Sin",
          "Daredevil",
          "The Bridge",
          "Fighting Spirit",
          "Poirot",
          "Primal",
          "Mindhunter",
          "Lonesome Dove",
          "Mr. Bean",
          "Shōgun",
          "The Offer",
          "Haikyu!!",
          "The Return of Sherlock Holmes",
          "Crash Landing on You",
          "The Penguin",
          "The Jinx: The Life and Deaths of Robert Durst",
          "Gomorrah",
          "Pose",
          "El Chavo del Ocho",
          "Yes Minister",
          "Scavengers Reign",
          "Greatest Events of WWII in Colour",
          "The Bureau",
          "Anne with an E",
          "The Newsroom",
          "Archer",
          "Homicide: Life on the Street",
          "Critical Role",
          "Boardwalk Empire",
          "Dopesick",
          "Mystery Science Theater 3000",
          "Yeh Meri Family",
          "Justified",
          "The Bugs Bunny Show",
          "The Family Man",
          "Young Justice",
          "QI",
          "Andor",
          "Demon Slayer: Kimetsu no Yaiba",
          "What We Do in the Shadows",
          "Dragon Ball",
          "Battlestar Galactica",
          "Justice League",
          "The Haunting of Hill House",
          "Endeavour",
          "The Venture Bros.",
          "Yes, Prime Minister",
          "Samurai Champloo",
          "The Rehearsal",
          "Flight of the Conchords",
          "The Last of Us",
          "The IT Crowd",
          "The Queen's Gambit",
          "Coupling",
          "Rocket Boys",
          "Mr. Robot",
          "Black Sun",
          "I'm Alan Partridge",
          "Ezel",
          "Making a Murderer",
          "Detectorists",
          "Samurai Jack",
          "Solo Leveling",
          "Happy Valley",
          "Takopi's Original Sin",
          "Regular Show",
          "Long Way Round",
          "Impractical Jokers",
          "Spartacus",
          "Spaced",
          "Yellowstone",
          "Derry Girls",
          "The Bear",
          "Sons of Anarchy",
          "Whose Line Is It Anyway?",
          "Mob Psycho 100",
          "Alchemy of Souls",
          "Louie",
          "Jujutsu Kaisen",
          "The Eric Andre Show",
          "Through the Wormhole",
          "The Office",
          "Neon Genesis Evangelion",
          "Trailer Park Boys",
          "My Brilliant Friend",
          "Schitt's Creek",
          "Silicon Valley",
          "Brass Eye",
          "All Creatures Great & Small",
          "The Expanse",
          "Fullmetal Alchemist",
          "Futurama",
          "Skam",
          "Rurôni Kenshin: Meiji kenkaku romantan - Tsuioku-hen",
          "Shameless",
          "Hannibal",
          "North & South",
          "Formula 1: Drive to Survive",
          "Doctor Who",
          "Gintama",
          "Avrupa Yakasi",
          "Extraordinary Attorney Woo"
         ],
         "legendgroup": "",
         "marker": {
          "color": {
           "bdata": "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",
           "dtype": "f8"
          },
          "coloraxis": "coloraxis",
          "symbol": "circle"
         },
         "mode": "markers",
         "name": "",
         "orientation": "v",
         "showlegend": false,
         "type": "scatter",
         "x": {
          "bdata": "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",
          "dtype": "f8"
         },
         "xaxis": "x",
         "y": {
          "bdata": "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",
          "dtype": "f8"
         },
         "yaxis": "y"
        }
       ],
       "layout": {
        "coloraxis": {
         "colorbar": {
          "title": {
           "text": "IMDB ocena"
          }
         },
         "colorscale": [
          [
           0,
           "#440154"
          ],
          [
           0.1111111111111111,
           "#482878"
          ],
          [
           0.2222222222222222,
           "#3e4989"
          ],
          [
           0.3333333333333333,
           "#31688e"
          ],
          [
           0.4444444444444444,
           "#26828e"
          ],
          [
           0.5555555555555556,
           "#1f9e89"
          ],
          [
           0.6666666666666666,
           "#35b779"
          ],
          [
           0.7777777777777778,
           "#6ece58"
          ],
          [
           0.8888888888888888,
           "#b5de2b"
          ],
          [
           1,
           "#fde725"
          ]
         ]
        },
        "height": 800,
        "legend": {
         "tracegroupgap": 0
        },
        "template": {
         "data": {
          "bar": [
           {
            "error_x": {
             "color": "#2a3f5f"
            },
            "error_y": {
             "color": "#2a3f5f"
            },
            "marker": {
             "line": {
              "color": "#E5ECF6",
              "width": 0.5
             },
             "pattern": {
              "fillmode": "overlay",
              "size": 10,
              "solidity": 0.2
             }
            },
            "type": "bar"
           }
          ],
          "barpolar": [
           {
            "marker": {
             "line": {
              "color": "#E5ECF6",
              "width": 0.5
             },
             "pattern": {
              "fillmode": "overlay",
              "size": 10,
              "solidity": 0.2
             }
            },
            "type": "barpolar"
           }
          ],
          "carpet": [
           {
            "aaxis": {
             "endlinecolor": "#2a3f5f",
             "gridcolor": "white",
             "linecolor": "white",
             "minorgridcolor": "white",
             "startlinecolor": "#2a3f5f"
            },
            "baxis": {
             "endlinecolor": "#2a3f5f",
             "gridcolor": "white",
             "linecolor": "white",
             "minorgridcolor": "white",
             "startlinecolor": "#2a3f5f"
            },
            "type": "carpet"
           }
          ],
          "choropleth": [
           {
            "colorbar": {
             "outlinewidth": 0,
             "ticks": ""
            },
            "type": "choropleth"
           }
          ],
          "contour": [
           {
            "colorbar": {
             "outlinewidth": 0,
             "ticks": ""
            },
            "colorscale": [
             [
              0,
              "#0d0887"
             ],
             [
              0.1111111111111111,
              "#46039f"
             ],
             [
              0.2222222222222222,
              "#7201a8"
             ],
             [
              0.3333333333333333,
              "#9c179e"
             ],
             [
              0.4444444444444444,
              "#bd3786"
             ],
             [
              0.5555555555555556,
              "#d8576b"
             ],
             [
              0.6666666666666666,
              "#ed7953"
             ],
             [
              0.7777777777777778,
              "#fb9f3a"
             ],
             [
              0.8888888888888888,
              "#fdca26"
             ],
             [
              1,
              "#f0f921"
             ]
            ],
            "type": "contour"
           }
          ],
          "contourcarpet": [
           {
            "colorbar": {
             "outlinewidth": 0,
             "ticks": ""
            },
            "type": "contourcarpet"
           }
          ],
          "heatmap": [
           {
            "colorbar": {
             "outlinewidth": 0,
             "ticks": ""
            },
            "colorscale": [
             [
              0,
              "#0d0887"
             ],
             [
              0.1111111111111111,
              "#46039f"
             ],
             [
              0.2222222222222222,
              "#7201a8"
             ],
             [
              0.3333333333333333,
              "#9c179e"
             ],
             [
              0.4444444444444444,
              "#bd3786"
             ],
             [
              0.5555555555555556,
              "#d8576b"
             ],
             [
              0.6666666666666666,
              "#ed7953"
             ],
             [
              0.7777777777777778,
              "#fb9f3a"
             ],
             [
              0.8888888888888888,
              "#fdca26"
             ],
             [
              1,
              "#f0f921"
             ]
            ],
            "type": "heatmap"
           }
          ],
          "histogram": [
           {
            "marker": {
             "pattern": {
              "fillmode": "overlay",
              "size": 10,
              "solidity": 0.2
             }
            },
            "type": "histogram"
           }
          ],
          "histogram2d": [
           {
            "colorbar": {
             "outlinewidth": 0,
             "ticks": ""
            },
            "colorscale": [
             [
              0,
              "#0d0887"
             ],
             [
              0.1111111111111111,
              "#46039f"
             ],
             [
              0.2222222222222222,
              "#7201a8"
             ],
             [
              0.3333333333333333,
              "#9c179e"
             ],
             [
              0.4444444444444444,
              "#bd3786"
             ],
             [
              0.5555555555555556,
              "#d8576b"
             ],
             [
              0.6666666666666666,
              "#ed7953"
             ],
             [
              0.7777777777777778,
              "#fb9f3a"
             ],
             [
              0.8888888888888888,
              "#fdca26"
             ],
             [
              1,
              "#f0f921"
             ]
            ],
            "type": "histogram2d"
           }
          ],
          "histogram2dcontour": [
           {
            "colorbar": {
             "outlinewidth": 0,
             "ticks": ""
            },
            "colorscale": [
             [
              0,
              "#0d0887"
             ],
             [
              0.1111111111111111,
              "#46039f"
             ],
             [
              0.2222222222222222,
              "#7201a8"
             ],
             [
              0.3333333333333333,
              "#9c179e"
             ],
             [
              0.4444444444444444,
              "#bd3786"
             ],
             [
              0.5555555555555556,
              "#d8576b"
             ],
             [
              0.6666666666666666,
              "#ed7953"
             ],
             [
              0.7777777777777778,
              "#fb9f3a"
             ],
             [
              0.8888888888888888,
              "#fdca26"
             ],
             [
              1,
              "#f0f921"
             ]
            ],
            "type": "histogram2dcontour"
           }
          ],
          "mesh3d": [
           {
            "colorbar": {
             "outlinewidth": 0,
             "ticks": ""
            },
            "type": "mesh3d"
           }
          ],
          "parcoords": [
           {
            "line": {
             "colorbar": {
              "outlinewidth": 0,
              "ticks": ""
             }
            },
            "type": "parcoords"
           }
          ],
          "pie": [
           {
            "automargin": true,
            "type": "pie"
           }
          ],
          "scatter": [
           {
            "fillpattern": {
             "fillmode": "overlay",
             "size": 10,
             "solidity": 0.2
            },
            "type": "scatter"
           }
          ],
          "scatter3d": [
           {
            "line": {
             "colorbar": {
              "outlinewidth": 0,
              "ticks": ""
             }
            },
            "marker": {
             "colorbar": {
              "outlinewidth": 0,
              "ticks": ""
             }
            },
            "type": "scatter3d"
           }
          ],
          "scattercarpet": [
           {
            "marker": {
             "colorbar": {
              "outlinewidth": 0,
              "ticks": ""
             }
            },
            "type": "scattercarpet"
           }
          ],
          "scattergeo": [
           {
            "marker": {
             "colorbar": {
              "outlinewidth": 0,
              "ticks": ""
             }
            },
            "type": "scattergeo"
           }
          ],
          "scattergl": [
           {
            "marker": {
             "colorbar": {
              "outlinewidth": 0,
              "ticks": ""
             }
            },
            "type": "scattergl"
           }
          ],
          "scattermap": [
           {
            "marker": {
             "colorbar": {
              "outlinewidth": 0,
              "ticks": ""
             }
            },
            "type": "scattermap"
           }
          ],
          "scattermapbox": [
           {
            "marker": {
             "colorbar": {
              "outlinewidth": 0,
              "ticks": ""
             }
            },
            "type": "scattermapbox"
           }
          ],
          "scatterpolar": [
           {
            "marker": {
             "colorbar": {
              "outlinewidth": 0,
              "ticks": ""
             }
            },
            "type": "scatterpolar"
           }
          ],
          "scatterpolargl": [
           {
            "marker": {
             "colorbar": {
              "outlinewidth": 0,
              "ticks": ""
             }
            },
            "type": "scatterpolargl"
           }
          ],
          "scatterternary": [
           {
            "marker": {
             "colorbar": {
              "outlinewidth": 0,
              "ticks": ""
             }
            },
            "type": "scatterternary"
           }
          ],
          "surface": [
           {
            "colorbar": {
             "outlinewidth": 0,
             "ticks": ""
            },
            "colorscale": [
             [
              0,
              "#0d0887"
             ],
             [
              0.1111111111111111,
              "#46039f"
             ],
             [
              0.2222222222222222,
              "#7201a8"
             ],
             [
              0.3333333333333333,
              "#9c179e"
             ],
             [
              0.4444444444444444,
              "#bd3786"
             ],
             [
              0.5555555555555556,
              "#d8576b"
             ],
             [
              0.6666666666666666,
              "#ed7953"
             ],
             [
              0.7777777777777778,
              "#fb9f3a"
             ],
             [
              0.8888888888888888,
              "#fdca26"
             ],
             [
              1,
              "#f0f921"
             ]
            ],
            "type": "surface"
           }
          ],
          "table": [
           {
            "cells": {
             "fill": {
              "color": "#EBF0F8"
             },
             "line": {
              "color": "white"
             }
            },
            "header": {
             "fill": {
              "color": "#C8D4E3"
             },
             "line": {
              "color": "white"
             }
            },
            "type": "table"
           }
          ]
         },
         "layout": {
          "annotationdefaults": {
           "arrowcolor": "#2a3f5f",
           "arrowhead": 0,
           "arrowwidth": 1
          },
          "autotypenumbers": "strict",
          "coloraxis": {
           "colorbar": {
            "outlinewidth": 0,
            "ticks": ""
           }
          },
          "colorscale": {
           "diverging": [
            [
             0,
             "#8e0152"
            ],
            [
             0.1,
             "#c51b7d"
            ],
            [
             0.2,
             "#de77ae"
            ],
            [
             0.3,
             "#f1b6da"
            ],
            [
             0.4,
             "#fde0ef"
            ],
            [
             0.5,
             "#f7f7f7"
            ],
            [
             0.6,
             "#e6f5d0"
            ],
            [
             0.7,
             "#b8e186"
            ],
            [
             0.8,
             "#7fbc41"
            ],
            [
             0.9,
             "#4d9221"
            ],
            [
             1,
             "#276419"
            ]
           ],
           "sequential": [
            [
             0,
             "#0d0887"
            ],
            [
             0.1111111111111111,
             "#46039f"
            ],
            [
             0.2222222222222222,
             "#7201a8"
            ],
            [
             0.3333333333333333,
             "#9c179e"
            ],
            [
             0.4444444444444444,
             "#bd3786"
            ],
            [
             0.5555555555555556,
             "#d8576b"
            ],
            [
             0.6666666666666666,
             "#ed7953"
            ],
            [
             0.7777777777777778,
             "#fb9f3a"
            ],
            [
             0.8888888888888888,
             "#fdca26"
            ],
            [
             1,
             "#f0f921"
            ]
           ],
           "sequentialminus": [
            [
             0,
             "#0d0887"
            ],
            [
             0.1111111111111111,
             "#46039f"
            ],
            [
             0.2222222222222222,
             "#7201a8"
            ],
            [
             0.3333333333333333,
             "#9c179e"
            ],
            [
             0.4444444444444444,
             "#bd3786"
            ],
            [
             0.5555555555555556,
             "#d8576b"
            ],
            [
             0.6666666666666666,
             "#ed7953"
            ],
            [
             0.7777777777777778,
             "#fb9f3a"
            ],
            [
             0.8888888888888888,
             "#fdca26"
            ],
            [
             1,
             "#f0f921"
            ]
           ]
          },
          "colorway": [
           "#636efa",
           "#EF553B",
           "#00cc96",
           "#ab63fa",
           "#FFA15A",
           "#19d3f3",
           "#FF6692",
           "#B6E880",
           "#FF97FF",
           "#FECB52"
          ],
          "font": {
           "color": "#2a3f5f"
          },
          "geo": {
           "bgcolor": "white",
           "lakecolor": "white",
           "landcolor": "#E5ECF6",
           "showlakes": true,
           "showland": true,
           "subunitcolor": "white"
          },
          "hoverlabel": {
           "align": "left"
          },
          "hovermode": "closest",
          "mapbox": {
           "style": "light"
          },
          "paper_bgcolor": "white",
          "plot_bgcolor": "#E5ECF6",
          "polar": {
           "angularaxis": {
            "gridcolor": "white",
            "linecolor": "white",
            "ticks": ""
           },
           "bgcolor": "#E5ECF6",
           "radialaxis": {
            "gridcolor": "white",
            "linecolor": "white",
            "ticks": ""
           }
          },
          "scene": {
           "xaxis": {
            "backgroundcolor": "#E5ECF6",
            "gridcolor": "white",
            "gridwidth": 2,
            "linecolor": "white",
            "showbackground": true,
            "ticks": "",
            "zerolinecolor": "white"
           },
           "yaxis": {
            "backgroundcolor": "#E5ECF6",
            "gridcolor": "white",
            "gridwidth": 2,
            "linecolor": "white",
            "showbackground": true,
            "ticks": "",
            "zerolinecolor": "white"
           },
           "zaxis": {
            "backgroundcolor": "#E5ECF6",
            "gridcolor": "white",
            "gridwidth": 2,
            "linecolor": "white",
            "showbackground": true,
            "ticks": "",
            "zerolinecolor": "white"
           }
          },
          "shapedefaults": {
           "line": {
            "color": "#2a3f5f"
           }
          },
          "ternary": {
           "aaxis": {
            "gridcolor": "white",
            "linecolor": "white",
            "ticks": ""
           },
           "baxis": {
            "gridcolor": "white",
            "linecolor": "white",
            "ticks": ""
           },
           "bgcolor": "#E5ECF6",
           "caxis": {
            "gridcolor": "white",
            "linecolor": "white",
            "ticks": ""
           }
          },
          "title": {
           "x": 0.05
          },
          "xaxis": {
           "automargin": true,
           "gridcolor": "white",
           "linecolor": "white",
           "ticks": "",
           "title": {
            "standoff": 15
           },
           "zerolinecolor": "white",
           "zerolinewidth": 2
          },
          "yaxis": {
           "automargin": true,
           "gridcolor": "white",
           "linecolor": "white",
           "ticks": "",
           "title": {
            "standoff": 15
           },
           "zerolinecolor": "white",
           "zerolinewidth": 2
          }
         }
        },
        "title": {
         "text": "Trajanje, število glasov in IMDB ocena (raztegnjeni deli z največ podatki za boljšo berljivost)"
        },
        "width": 1600,
        "xaxis": {
         "anchor": "y",
         "domain": [
          0,
          1
         ],
         "tickangle": 0,
         "tickmode": "array",
         "ticktext": [
          "0h",
          "5h",
          "10h",
          "20h",
          "50h",
          "100h",
          "200h",
          "500h",
          "1000h"
         ],
         "tickvals": {
          "bdata": "AAAAAAAAAABnRhmWbTMBQMGomEIRBQdAodFS5Tc6DUD/Zv1lbd8SQNRFIWIPJxZA7ftjebN0GUD0HA4w99YdQDzI7yq9lCBA",
          "dtype": "f8"
         },
         "title": {
          "text": "Skupni čas trajanja (ure)"
         }
        },
        "yaxis": {
         "anchor": "x",
         "domain": [
          0,
          1
         ],
         "tickmode": "array",
         "ticktext": [
          "0k",
          "10k",
          "20k",
          "50k",
          "100k",
          "200k",
          "500k",
          "1M",
          "2M",
          "3M"
         ],
         "tickvals": {
          "bdata": "AAAAAAAAAABC2PvWvmsiQMz2UnmcziNADADImbyjJUD2lC16nwYnQMTeVwKDaShAHja8rKY+KkDI7R27iqErQJqaRtpuBC1Ao+8U9AfULUA=",
          "dtype": "f8"
         },
         "title": {
          "text": "Število glasov (v tisočicah ali milijonih)"
         }
        }
       }
      }
     },
     "metadata": {},
     "output_type": "display_data"
    },
    {
     "data": {
      "application/vnd.plotly.v1+json": {
       "config": {
        "plotlyServerURL": "https://plot.ly"
       },
       "data": [
        {
         "customdata": {
          "bdata": "AAAAAAAAI0DNzMzMzMwiQJqZmZmZmSJAmpmZmZmZIkCamZmZmZkiQGZmZmZmZiJAmpmZmZmZIkBmZmZmZmYiQJqZmZmZmSJAZmZmZmZmIkBmZmZmZmYiQJqZmZmZmSJAZmZmZmZmIkAzMzMzMzMiQDMzMzMzMyJAAAAAAAAAIkAzMzMzMzMiQAAAAAAAACJAAAAAAAAAIkAAAAAAAAAiQAAAAAAAACJAAAAAAAAAIkAAAAAAAAAiQAAAAAAAACJAAAAAAAAAIkAAAAAAAAAiQGZmZmZmZiJAAAAAAAAAIkAAAAAAAAAiQAAAAAAAACJAAAAAAAAAIkAzMzMzMzMiQM3MzMzMzCFAAAAAAAAAIkDNzMzMzMwhQAAAAAAAACJAzczMzMzMIUDNzMzMzMwhQM3MzMzMzCFAzczMzMzMIUDNzMzMzMwhQM3MzMzMzCFAzczMzMzMIUDNzMzMzMwhQJqZmZmZmSFAAAAAAAAAIkDNzMzMzMwhQAAAAAAAACJAAAAAAAAAIkDNzMzMzMwhQJqZmZmZmSFAmpmZmZmZIUDNzMzMzMwhQJqZmZmZmSFAMzMzMzMzIkAAAAAAAAAiQJqZmZmZmSFAmpmZmZmZIUCamZmZmZkhQJqZmZmZmSFAmpmZmZmZIUAAAAAAAAAiQGZmZmZmZiJAmpmZmZmZIUAAAAAAAAAiQDMzMzMzMyJAmpmZmZmZIUCamZmZmZkhQJqZmZmZmSFAZmZmZmZmIUCamZmZmZkhQJqZmZmZmSFAMzMzMzMzIkBmZmZmZmYhQJqZmZmZmSFAZmZmZmZmIUAAAAAAAAAiQAAAAAAAACJAmpmZmZmZIUBmZmZmZmYhQGZmZmZmZiFAZmZmZmZmIUCamZmZmZkhQAAAAAAAACJAZmZmZmZmIUBmZmZmZmYhQGZmZmZmZiFAZmZmZmZmIUBmZmZmZmYhQGZmZmZmZiFAZmZmZmZmIUBmZmZmZmYhQGZmZmZmZiFAZmZmZmZmIUBmZmZmZmYhQGZmZmZmZiFAZmZmZmZmIUBmZmZmZmYhQGZmZmZmZiFAZmZmZmZmIUBmZmZmZmYhQGZmZmZmZiFAMzMzMzMzIUBmZmZmZmYhQGZmZmZmZiFAZmZmZmZmIUBmZmZmZmYhQGZmZmZmZiFAZmZmZmZmIUAAAAAAAAAiQGZmZmZmZiFAZmZmZmZmIUBmZmZmZmYhQGZmZmZmZiFAZmZmZmZmIUAzMzMzMzMhQDMzMzMzMyFAZmZmZmZmIUBmZmZmZmYhQGZmZmZmZiFAZmZmZmZmIUCamZmZmZkhQGZmZmZmZiFAzczMzMzMIUBmZmZmZmYiQDMzMzMzMyFAAAAAAAAAIkAzMzMzMzMhQDMzMzMzMyFAMzMzMzMzIUAzMzMzMzMhQDMzMzMzMyFAMzMzMzMzIUBmZmZmZmYhQDMzMzMzMyFAMzMzMzMzIUAzMzMzMzMhQDMzMzMzMyFAMzMzMzMzIUCamZmZmZkhQDMzMzMzMyFAMzMzMzMzIUAzMzMzMzMhQGZmZmZmZiFAMzMzMzMzIUAzMzMzMzMhQGZmZmZmZiFAZmZmZmZmIUBmZmZmZmYhQDMzMzMzMyFAMzMzMzMzIUAzMzMzMzMhQGZmZmZmZiFAMzMzMzMzIUAzMzMzMzMhQDMzMzMzMyFAZmZmZmZmIUAzMzMzMzMhQDMzMzMzMyFAMzMzMzMzIUBmZmZmZmYhQDMzMzMzMyJAMzMzMzMzIUAzMzMzMzMhQDMzMzMzMyFAAAAAAAAAIkAzMzMzMzMhQDMzMzMzMyFAZmZmZmZmIUAzMzMzMzMhQDMzMzMzMyFAMzMzMzMzIUAzMzMzMzMhQDMzMzMzMyFAAAAAAAAAIUAAAAAAAAAhQAAAAAAAACFAMzMzMzMzIUAzMzMzMzMhQDMzMzMzMyFAAAAAAAAAIUAAAAAAAAAhQAAAAAAAACFAAAAAAAAAIUAAAAAAAAAhQAAAAAAAACFAAAAAAAAAIUDNzMzMzMwhQAAAAAAAACFAmpmZmZmZIUAzMzMzMzMhQGZmZmZmZiFAAAAAAAAAIUAzMzMzMzMhQAAAAAAAACFAMzMzMzMzIUAAAAAAAAAhQJqZmZmZmSJAMzMzMzMzIUAzMzMzMzMhQAAAAAAAACFAAAAAAAAAIUAAAAAAAAAhQDMzMzMzMyFAAAAAAAAAIUAAAAAAAAAhQAAAAAAAACFAAAAAAAAAIUAAAAAAAAAhQGZmZmZmZiFAAAAAAAAAIUAAAAAAAAAhQAAAAAAAACFAMzMzMzMzIUAAAAAAAAAhQAAAAAAAACFAAAAAAAAAIUAzMzMzMzMhQAAAAAAAACFAAAAAAAAAIUAzMzMzMzMhQDMzMzMzMyFAAAAAAAAAIUAAAAAAAAAhQAAAAAAAACFAMzMzMzMzIUAzMzMzMzMhQAAAAAAAACFAAAAAAAAAIUAzMzMzMzMhQAAAAAAAACFAAAAAAAAAIUBmZmZmZmYhQDMzMzMzMyFAMzMzMzMzIUA=",
          "dtype": "f8",
          "shape": "235, 1"
         },
         "hovertemplate": "<b>%{hovertext}</b><br><br>Povpreči čas trajanja epizode (minute)=%{x}<br>Število glasov=%{y}<br>IMDB ocena=%{marker.color}<extra></extra>",
         "hovertext": [
          "Breaking Bad",
          "Band of Brothers",
          "Chernobyl",
          "The Wire",
          "Avatar: The Last Airbender",
          "The Sopranos",
          "Blue Planet II",
          "Cosmos: A Spacetime Odyssey",
          "Cosmos",
          "Our Planet",
          "Game of Thrones",
          "Bluey",
          "The World at War",
          "Fullmetal Alchemist: Brotherhood",
          "Life",
          "The Last Dance",
          "Attack on Titan",
          "Rick and Morty",
          "The Twilight Zone",
          "Sherlock",
          "Batman: The Animated Series",
          "Better Call Saul",
          "Arcane",
          "The Office",
          "The Blue Planet",
          "Clarkson's Farm",
          "Scam 1992: The Harshad Mehta Story",
          "Frozen Planet",
          "Human Planet",
          "Hunter x Hunter",
          "Only Fools and Horses",
          "Dexter: Resurrection",
          "Firefly",
          "The Civil War",
          "Death Note",
          "As If",
          "Gravity Falls",
          "Seinfeld",
          "The Pitt",
          "Dekalog",
          "The Beatles: Get Back",
          "True Detective",
          "Cowboy Bebop",
          "Nathan for You",
          "Fargo",
          "Taskmaster",
          "Frieren: Beyond Journey's End",
          "Persona",
          "Apocalypse: The Second World War",
          "Friends",
          "Last Week Tonight with John Oliver",
          "It's Always Sunny in Philadelphia",
          "The West Wing",
          "Succession",
          "TVF Pitchers",
          "One Piece",
          "Curb Your Enthusiasm",
          "Monty Python's Flying Circus",
          "Das Boot",
          "BoJack Horseman",
          "Fawlty Towers",
          "Panchayat",
          "When Life Gives You Tangerines",
          "Blackadder Goes Forth",
          "Leyla and Mecnun",
          "The Chosen",
          "Freaks and Geeks",
          "Pride and Prejudice",
          "Dragon Ball Z",
          "Twin Peaks",
          "Chappelle's Show",
          "Vinland Saga",
          "Gullak",
          "Narcos",
          "I, Claudius",
          "South Park",
          "Reply 1988",
          "Kota Factory",
          "Ted Lasso",
          "Over the Garden Wall",
          "Black Mirror",
          "Peaky Blinders",
          "Steins;Gate",
          "My Mister",
          "Six Feet Under",
          "Berserk",
          "Rome",
          "Oz",
          "X-Men '97",
          "Dark",
          "Fleabag",
          "The Shield",
          "Downton Abbey",
          "The Grand Tour",
          "Battlestar Galactica",
          "Severance",
          "Mad Men",
          "Peep Show",
          "Blue Eye Samurai",
          "Invincible",
          "Monster",
          "Naruto: Shippuden",
          "The Simpsons",
          "Star Trek: The Next Generation",
          "House",
          "Justice League Unlimited",
          "Arrested Development",
          "The Adventures of Sherlock Holmes",
          "One Punch Man",
          "Mahabharat",
          "Line of Duty",
          "Friday Night Lights",
          "Top Gear",
          "The Marvelous Mrs. Maisel",
          "How to with John Wilson",
          "Stranger Things",
          "The Boys",
          "The Thick of It",
          "This Is Us",
          "1883",
          "Father Ted",
          "Behzat Ç: An Ankara Detective Story",
          "Code Geass",
          "Sarabhai V/S Sarabhai",
          "Aspirants",
          "Adventure Time",
          "Ramayan",
          "Parks and Recreation",
          "The X-Files",
          "Dexter",
          "Atlanta",
          "The Mandalorian",
          "Deadwood",
          "Mr Inbetween",
          "House of Cards",
          "The Crown",
          "It's a Sin",
          "Daredevil",
          "The Bridge",
          "Fighting Spirit",
          "Poirot",
          "Primal",
          "Mindhunter",
          "Lonesome Dove",
          "Mr. Bean",
          "Shōgun",
          "Haikyu!!",
          "The Return of Sherlock Holmes",
          "Crash Landing on You",
          "The Penguin",
          "Gomorrah",
          "Pose",
          "El Chavo del Ocho",
          "Yes Minister",
          "Scavengers Reign",
          "Greatest Events of WWII in Colour",
          "The Bureau",
          "Anne with an E",
          "The Newsroom",
          "Archer",
          "Homicide: Life on the Street",
          "Critical Role",
          "Boardwalk Empire",
          "Dopesick",
          "Mystery Science Theater 3000",
          "Yeh Meri Family",
          "Justified",
          "The Bugs Bunny Show",
          "The Family Man",
          "Young Justice",
          "QI",
          "Andor",
          "Demon Slayer: Kimetsu no Yaiba",
          "What We Do in the Shadows",
          "Dragon Ball",
          "Battlestar Galactica",
          "Justice League",
          "Endeavour",
          "The Venture Bros.",
          "Yes, Prime Minister",
          "Samurai Champloo",
          "The Rehearsal",
          "Flight of the Conchords",
          "The Last of Us",
          "The IT Crowd",
          "The Queen's Gambit",
          "Coupling",
          "Rocket Boys",
          "Mr. Robot",
          "Black Sun",
          "I'm Alan Partridge",
          "Ezel",
          "Making a Murderer",
          "Detectorists",
          "Samurai Jack",
          "Solo Leveling",
          "Happy Valley",
          "Takopi's Original Sin",
          "Regular Show",
          "Long Way Round",
          "Impractical Jokers",
          "Spartacus",
          "Spaced",
          "Yellowstone",
          "Derry Girls",
          "The Bear",
          "Sons of Anarchy",
          "Whose Line Is It Anyway?",
          "Mob Psycho 100",
          "Alchemy of Souls",
          "Louie",
          "Jujutsu Kaisen",
          "The Eric Andre Show",
          "Through the Wormhole",
          "The Office",
          "Neon Genesis Evangelion",
          "Trailer Park Boys",
          "My Brilliant Friend",
          "Schitt's Creek",
          "Silicon Valley",
          "Brass Eye",
          "All Creatures Great & Small",
          "The Expanse",
          "Fullmetal Alchemist",
          "Futurama",
          "Skam",
          "Rurôni Kenshin: Meiji kenkaku romantan - Tsuioku-hen",
          "Shameless",
          "Hannibal",
          "North & South",
          "Formula 1: Drive to Survive",
          "Doctor Who",
          "Gintama",
          "Avrupa Yakasi",
          "Extraordinary Attorney Woo"
         ],
         "legendgroup": "",
         "marker": {
          "color": {
           "bdata": "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",
           "dtype": "f8"
          },
          "coloraxis": "coloraxis",
          "symbol": "circle"
         },
         "mode": "markers",
         "name": "",
         "orientation": "v",
         "showlegend": false,
         "type": "scatter",
         "x": {
          "bdata": "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",
          "dtype": "f8"
         },
         "xaxis": "x",
         "y": {
          "bdata": "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",
          "dtype": "f8"
         },
         "yaxis": "y"
        }
       ],
       "layout": {
        "coloraxis": {
         "colorbar": {
          "title": {
           "text": "IMDB ocena"
          }
         },
         "colorscale": [
          [
           0,
           "#440154"
          ],
          [
           0.1111111111111111,
           "#482878"
          ],
          [
           0.2222222222222222,
           "#3e4989"
          ],
          [
           0.3333333333333333,
           "#31688e"
          ],
          [
           0.4444444444444444,
           "#26828e"
          ],
          [
           0.5555555555555556,
           "#1f9e89"
          ],
          [
           0.6666666666666666,
           "#35b779"
          ],
          [
           0.7777777777777778,
           "#6ece58"
          ],
          [
           0.8888888888888888,
           "#b5de2b"
          ],
          [
           1,
           "#fde725"
          ]
         ]
        },
        "height": 800,
        "legend": {
         "tracegroupgap": 0
        },
        "template": {
         "data": {
          "bar": [
           {
            "error_x": {
             "color": "#2a3f5f"
            },
            "error_y": {
             "color": "#2a3f5f"
            },
            "marker": {
             "line": {
              "color": "#E5ECF6",
              "width": 0.5
             },
             "pattern": {
              "fillmode": "overlay",
              "size": 10,
              "solidity": 0.2
             }
            },
            "type": "bar"
           }
          ],
          "barpolar": [
           {
            "marker": {
             "line": {
              "color": "#E5ECF6",
              "width": 0.5
             },
             "pattern": {
              "fillmode": "overlay",
              "size": 10,
              "solidity": 0.2
             }
            },
            "type": "barpolar"
           }
          ],
          "carpet": [
           {
            "aaxis": {
             "endlinecolor": "#2a3f5f",
             "gridcolor": "white",
             "linecolor": "white",
             "minorgridcolor": "white",
             "startlinecolor": "#2a3f5f"
            },
            "baxis": {
             "endlinecolor": "#2a3f5f",
             "gridcolor": "white",
             "linecolor": "white",
             "minorgridcolor": "white",
             "startlinecolor": "#2a3f5f"
            },
            "type": "carpet"
           }
          ],
          "choropleth": [
           {
            "colorbar": {
             "outlinewidth": 0,
             "ticks": ""
            },
            "type": "choropleth"
           }
          ],
          "contour": [
           {
            "colorbar": {
             "outlinewidth": 0,
             "ticks": ""
            },
            "colorscale": [
             [
              0,
              "#0d0887"
             ],
             [
              0.1111111111111111,
              "#46039f"
             ],
             [
              0.2222222222222222,
              "#7201a8"
             ],
             [
              0.3333333333333333,
              "#9c179e"
             ],
             [
              0.4444444444444444,
              "#bd3786"
             ],
             [
              0.5555555555555556,
              "#d8576b"
             ],
             [
              0.6666666666666666,
              "#ed7953"
             ],
             [
              0.7777777777777778,
              "#fb9f3a"
             ],
             [
              0.8888888888888888,
              "#fdca26"
             ],
             [
              1,
              "#f0f921"
             ]
            ],
            "type": "contour"
           }
          ],
          "contourcarpet": [
           {
            "colorbar": {
             "outlinewidth": 0,
             "ticks": ""
            },
            "type": "contourcarpet"
           }
          ],
          "heatmap": [
           {
            "colorbar": {
             "outlinewidth": 0,
             "ticks": ""
            },
            "colorscale": [
             [
              0,
              "#0d0887"
             ],
             [
              0.1111111111111111,
              "#46039f"
             ],
             [
              0.2222222222222222,
              "#7201a8"
             ],
             [
              0.3333333333333333,
              "#9c179e"
             ],
             [
              0.4444444444444444,
              "#bd3786"
             ],
             [
              0.5555555555555556,
              "#d8576b"
             ],
             [
              0.6666666666666666,
              "#ed7953"
             ],
             [
              0.7777777777777778,
              "#fb9f3a"
             ],
             [
              0.8888888888888888,
              "#fdca26"
             ],
             [
              1,
              "#f0f921"
             ]
            ],
            "type": "heatmap"
           }
          ],
          "histogram": [
           {
            "marker": {
             "pattern": {
              "fillmode": "overlay",
              "size": 10,
              "solidity": 0.2
             }
            },
            "type": "histogram"
           }
          ],
          "histogram2d": [
           {
            "colorbar": {
             "outlinewidth": 0,
             "ticks": ""
            },
            "colorscale": [
             [
              0,
              "#0d0887"
             ],
             [
              0.1111111111111111,
              "#46039f"
             ],
             [
              0.2222222222222222,
              "#7201a8"
             ],
             [
              0.3333333333333333,
              "#9c179e"
             ],
             [
              0.4444444444444444,
              "#bd3786"
             ],
             [
              0.5555555555555556,
              "#d8576b"
             ],
             [
              0.6666666666666666,
              "#ed7953"
             ],
             [
              0.7777777777777778,
              "#fb9f3a"
             ],
             [
              0.8888888888888888,
              "#fdca26"
             ],
             [
              1,
              "#f0f921"
             ]
            ],
            "type": "histogram2d"
           }
          ],
          "histogram2dcontour": [
           {
            "colorbar": {
             "outlinewidth": 0,
             "ticks": ""
            },
            "colorscale": [
             [
              0,
              "#0d0887"
             ],
             [
              0.1111111111111111,
              "#46039f"
             ],
             [
              0.2222222222222222,
              "#7201a8"
             ],
             [
              0.3333333333333333,
              "#9c179e"
             ],
             [
              0.4444444444444444,
              "#bd3786"
             ],
             [
              0.5555555555555556,
              "#d8576b"
             ],
             [
              0.6666666666666666,
              "#ed7953"
             ],
             [
              0.7777777777777778,
              "#fb9f3a"
             ],
             [
              0.8888888888888888,
              "#fdca26"
             ],
             [
              1,
              "#f0f921"
             ]
            ],
            "type": "histogram2dcontour"
           }
          ],
          "mesh3d": [
           {
            "colorbar": {
             "outlinewidth": 0,
             "ticks": ""
            },
            "type": "mesh3d"
           }
          ],
          "parcoords": [
           {
            "line": {
             "colorbar": {
              "outlinewidth": 0,
              "ticks": ""
             }
            },
            "type": "parcoords"
           }
          ],
          "pie": [
           {
            "automargin": true,
            "type": "pie"
           }
          ],
          "scatter": [
           {
            "fillpattern": {
             "fillmode": "overlay",
             "size": 10,
             "solidity": 0.2
            },
            "type": "scatter"
           }
          ],
          "scatter3d": [
           {
            "line": {
             "colorbar": {
              "outlinewidth": 0,
              "ticks": ""
             }
            },
            "marker": {
             "colorbar": {
              "outlinewidth": 0,
              "ticks": ""
             }
            },
            "type": "scatter3d"
           }
          ],
          "scattercarpet": [
           {
            "marker": {
             "colorbar": {
              "outlinewidth": 0,
              "ticks": ""
             }
            },
            "type": "scattercarpet"
           }
          ],
          "scattergeo": [
           {
            "marker": {
             "colorbar": {
              "outlinewidth": 0,
              "ticks": ""
             }
            },
            "type": "scattergeo"
           }
          ],
          "scattergl": [
           {
            "marker": {
             "colorbar": {
              "outlinewidth": 0,
              "ticks": ""
             }
            },
            "type": "scattergl"
           }
          ],
          "scattermap": [
           {
            "marker": {
             "colorbar": {
              "outlinewidth": 0,
              "ticks": ""
             }
            },
            "type": "scattermap"
           }
          ],
          "scattermapbox": [
           {
            "marker": {
             "colorbar": {
              "outlinewidth": 0,
              "ticks": ""
             }
            },
            "type": "scattermapbox"
           }
          ],
          "scatterpolar": [
           {
            "marker": {
             "colorbar": {
              "outlinewidth": 0,
              "ticks": ""
             }
            },
            "type": "scatterpolar"
           }
          ],
          "scatterpolargl": [
           {
            "marker": {
             "colorbar": {
              "outlinewidth": 0,
              "ticks": ""
             }
            },
            "type": "scatterpolargl"
           }
          ],
          "scatterternary": [
           {
            "marker": {
             "colorbar": {
              "outlinewidth": 0,
              "ticks": ""
             }
            },
            "type": "scatterternary"
           }
          ],
          "surface": [
           {
            "colorbar": {
             "outlinewidth": 0,
             "ticks": ""
            },
            "colorscale": [
             [
              0,
              "#0d0887"
             ],
             [
              0.1111111111111111,
              "#46039f"
             ],
             [
              0.2222222222222222,
              "#7201a8"
             ],
             [
              0.3333333333333333,
              "#9c179e"
             ],
             [
              0.4444444444444444,
              "#bd3786"
             ],
             [
              0.5555555555555556,
              "#d8576b"
             ],
             [
              0.6666666666666666,
              "#ed7953"
             ],
             [
              0.7777777777777778,
              "#fb9f3a"
             ],
             [
              0.8888888888888888,
              "#fdca26"
             ],
             [
              1,
              "#f0f921"
             ]
            ],
            "type": "surface"
           }
          ],
          "table": [
           {
            "cells": {
             "fill": {
              "color": "#EBF0F8"
             },
             "line": {
              "color": "white"
             }
            },
            "header": {
             "fill": {
              "color": "#C8D4E3"
             },
             "line": {
              "color": "white"
             }
            },
            "type": "table"
           }
          ]
         },
         "layout": {
          "annotationdefaults": {
           "arrowcolor": "#2a3f5f",
           "arrowhead": 0,
           "arrowwidth": 1
          },
          "autotypenumbers": "strict",
          "coloraxis": {
           "colorbar": {
            "outlinewidth": 0,
            "ticks": ""
           }
          },
          "colorscale": {
           "diverging": [
            [
             0,
             "#8e0152"
            ],
            [
             0.1,
             "#c51b7d"
            ],
            [
             0.2,
             "#de77ae"
            ],
            [
             0.3,
             "#f1b6da"
            ],
            [
             0.4,
             "#fde0ef"
            ],
            [
             0.5,
             "#f7f7f7"
            ],
            [
             0.6,
             "#e6f5d0"
            ],
            [
             0.7,
             "#b8e186"
            ],
            [
             0.8,
             "#7fbc41"
            ],
            [
             0.9,
             "#4d9221"
            ],
            [
             1,
             "#276419"
            ]
           ],
           "sequential": [
            [
             0,
             "#0d0887"
            ],
            [
             0.1111111111111111,
             "#46039f"
            ],
            [
             0.2222222222222222,
             "#7201a8"
            ],
            [
             0.3333333333333333,
             "#9c179e"
            ],
            [
             0.4444444444444444,
             "#bd3786"
            ],
            [
             0.5555555555555556,
             "#d8576b"
            ],
            [
             0.6666666666666666,
             "#ed7953"
            ],
            [
             0.7777777777777778,
             "#fb9f3a"
            ],
            [
             0.8888888888888888,
             "#fdca26"
            ],
            [
             1,
             "#f0f921"
            ]
           ],
           "sequentialminus": [
            [
             0,
             "#0d0887"
            ],
            [
             0.1111111111111111,
             "#46039f"
            ],
            [
             0.2222222222222222,
             "#7201a8"
            ],
            [
             0.3333333333333333,
             "#9c179e"
            ],
            [
             0.4444444444444444,
             "#bd3786"
            ],
            [
             0.5555555555555556,
             "#d8576b"
            ],
            [
             0.6666666666666666,
             "#ed7953"
            ],
            [
             0.7777777777777778,
             "#fb9f3a"
            ],
            [
             0.8888888888888888,
             "#fdca26"
            ],
            [
             1,
             "#f0f921"
            ]
           ]
          },
          "colorway": [
           "#636efa",
           "#EF553B",
           "#00cc96",
           "#ab63fa",
           "#FFA15A",
           "#19d3f3",
           "#FF6692",
           "#B6E880",
           "#FF97FF",
           "#FECB52"
          ],
          "font": {
           "color": "#2a3f5f"
          },
          "geo": {
           "bgcolor": "white",
           "lakecolor": "white",
           "landcolor": "#E5ECF6",
           "showlakes": true,
           "showland": true,
           "subunitcolor": "white"
          },
          "hoverlabel": {
           "align": "left"
          },
          "hovermode": "closest",
          "mapbox": {
           "style": "light"
          },
          "paper_bgcolor": "white",
          "plot_bgcolor": "#E5ECF6",
          "polar": {
           "angularaxis": {
            "gridcolor": "white",
            "linecolor": "white",
            "ticks": ""
           },
           "bgcolor": "#E5ECF6",
           "radialaxis": {
            "gridcolor": "white",
            "linecolor": "white",
            "ticks": ""
           }
          },
          "scene": {
           "xaxis": {
            "backgroundcolor": "#E5ECF6",
            "gridcolor": "white",
            "gridwidth": 2,
            "linecolor": "white",
            "showbackground": true,
            "ticks": "",
            "zerolinecolor": "white"
           },
           "yaxis": {
            "backgroundcolor": "#E5ECF6",
            "gridcolor": "white",
            "gridwidth": 2,
            "linecolor": "white",
            "showbackground": true,
            "ticks": "",
            "zerolinecolor": "white"
           },
           "zaxis": {
            "backgroundcolor": "#E5ECF6",
            "gridcolor": "white",
            "gridwidth": 2,
            "linecolor": "white",
            "showbackground": true,
            "ticks": "",
            "zerolinecolor": "white"
           }
          },
          "shapedefaults": {
           "line": {
            "color": "#2a3f5f"
           }
          },
          "ternary": {
           "aaxis": {
            "gridcolor": "white",
            "linecolor": "white",
            "ticks": ""
           },
           "baxis": {
            "gridcolor": "white",
            "linecolor": "white",
            "ticks": ""
           },
           "bgcolor": "#E5ECF6",
           "caxis": {
            "gridcolor": "white",
            "linecolor": "white",
            "ticks": ""
           }
          },
          "title": {
           "x": 0.05
          },
          "xaxis": {
           "automargin": true,
           "gridcolor": "white",
           "linecolor": "white",
           "ticks": "",
           "title": {
            "standoff": 15
           },
           "zerolinecolor": "white",
           "zerolinewidth": 2
          },
          "yaxis": {
           "automargin": true,
           "gridcolor": "white",
           "linecolor": "white",
           "ticks": "",
           "title": {
            "standoff": 15
           },
           "zerolinecolor": "white",
           "zerolinewidth": 2
          }
         }
        },
        "title": {
         "text": "Primerjava povprečnega trajanja dolžine epizode, števila glasov in IMDB ocen (linearno normalizirane osi)"
        },
        "width": 1600,
        "xaxis": {
         "anchor": "y",
         "domain": [
          0,
          1
         ],
         "title": {
          "text": "Povpreči čas trajanja epizode (minute)"
         }
        },
        "yaxis": {
         "anchor": "x",
         "domain": [
          0,
          1
         ],
         "title": {
          "text": "Število glasov"
         }
        }
       }
      }
     },
     "metadata": {},
     "output_type": "display_data"
    }
   ],
   "source": [
    "from helpers.duration_ratings import (\n",
    "    compare_runtime_votes_ratings_normalized_axis,\n",
    "    compare_runtime_votes_ratings_non_normalized_axis,\n",
    "    compare_avg_ep_runtime_votes_ratings_normalized_axis\n",
    ")\n",
    "\n",
    "compare_runtime_votes_ratings_normalized_axis(df)\n",
    "\n",
    "compare_runtime_votes_ratings_non_normalized_axis(df)\n",
    "\n",
    "compare_avg_ep_runtime_votes_ratings_normalized_axis(df)"
   ]
  },
  {
   "cell_type": "markdown",
   "id": "e6c6e3c9",
   "metadata": {},
   "source": [
    "### 6. Analiza IMDB ocen glede na št. episod in št. serij\n",
    "To je poenostavljena varianta od prej. Tukaj gledamo kako št. sezon in št. vseh epizod vpliva na IMDB ocene, ker je recimo podobno (oz. preverjamo ce je res) kot trajanja v minutah. (Isto lahko opazimo, da je več krajših serij, in načeloma imajo krajše bolj razprešene ocene, tudi več ljudi jih oceni)."
   ]
  },
  {
   "cell_type": "code",
   "execution_count": 60,
   "id": "ef2d363a",
   "metadata": {},
   "outputs": [
    {
     "data": {
      "image/png": "[encoded data removed]",
      "text/plain": [
       "<Figure size 1600x600 with 2 Axes>"
      ]
     },
     "metadata": {},
     "output_type": "display_data"
    },
    {
     "data": {
      "image/png": "[encoded data removed]",
      "text/plain": [
       "<Figure size 1600x600 with 2 Axes>"
      ]
     },
     "metadata": {},
     "output_type": "display_data"
    }
   ],
   "source": [
    "from helpers.s_e_counts_ratings import (\n",
    "    plot_rating_episodes_seasons_counts,\n",
    "    plot_vote_count_episodes_seasons_counts\n",
    ")\n",
    "\n",
    "plot_rating_episodes_seasons_counts(df)\n",
    "plot_vote_count_episodes_seasons_counts(df)"
   ]
  },
  {
   "cell_type": "markdown",
   "id": "811d5fee",
   "metadata": {},
   "source": [
    "### 7. Analiza žanrov po letih\n",
    "Za vsako leto poglejmo katere serije so bile aktivne in preštejemo število pojavitev žanrov za posamezno leto"
   ]
  },
  {
   "cell_type": "code",
   "execution_count": 61,
   "id": "fa334de5",
   "metadata": {},
   "outputs": [
    {
     "data": {
      "image/png": "[encoded data removed]",
      "text/plain": [
       "<Figure size 1600x800 with 1 Axes>"
      ]
     },
     "metadata": {},
     "output_type": "display_data"
    }
   ],
   "source": [
    "from helpers.genres_years import plot_genres_years\n",
    "\n",
    "plot_genres_years(df)"
   ]
  },
  {
   "cell_type": "markdown",
   "id": "7e2a290b",
   "metadata": {},
   "source": [
    "### 8. Analiza sodelujočih ljudi v kateremkoli delu nastajanja serij\n",
    "Tukaj bomo najprej pogledali, koliko ljudi se prekriva če bi bili razdeljeni v tri glavne skupine, in sicer:\n",
    "- Igralci – redni ali gostujoči igralci,\n",
    "- Ustvarjalci – zajema ustvarjalce in scenariste (trakt_created_by, wiki_written_by),\n",
    "- Produkcija – vse ostale skupine pridobljene iz wikipedije (režiserje, izvršne režiserje, direktorje fotografije in montažerje).\n",
    "(Tako malo za občutek razmerij med skupinami in kako se prekrivajo)\n",
    "\n",
    "Nato pa smo še za vsako od teh skupin\n",
    "- Združili vsa imena sodelujočih oseb po serijah,\n",
    "- Prešteli, kolikokrat se posamezno ime pojavi v različnih serijah,\n",
    "- In prikazali 30 najpogostejših imen v vsaki skupini z vrstičnimi grafikoni.\n",
    "\n",
    "S tem smo dobili vpogled v to, kateri posamezniki so najbolj pogosto sodelovali pri več različnih serijah pri različnih področjih."
   ]
  },
  {
   "cell_type": "code",
   "execution_count": 62,
   "id": "80ca94f3",
   "metadata": {},
   "outputs": [
    {
     "data": {
      "image/png": "[encoded data removed]",
      "text/plain": [
       "<Figure size 1000x800 with 1 Axes>"
      ]
     },
     "metadata": {},
     "output_type": "display_data"
    },
    {
     "data": {
      "image/png": "[encoded data removed]",
      "text/plain": [
       "<Figure size 1100x800 with 1 Axes>"
      ]
     },
     "metadata": {},
     "output_type": "display_data"
    },
    {
     "data": {
      "image/png": "[encoded data removed]",
      "text/plain": [
       "<Figure size 1100x800 with 1 Axes>"
      ]
     },
     "metadata": {},
     "output_type": "display_data"
    },
    {
     "data": {
      "image/png": "[encoded data removed]",
      "text/plain": [
       "<Figure size 1100x800 with 1 Axes>"
      ]
     },
     "metadata": {},
     "output_type": "display_data"
    }
   ],
   "source": [
    "from helpers.people import (\n",
    "    plot_involved_people,\n",
    "    plot_number_of_apperances_for_people_in_groups\n",
    ")\n",
    "\n",
    "plot_involved_people(df)\n",
    "plot_number_of_apperances_for_people_in_groups(df)"
   ]
  }
 ],
 "metadata": {
  "kernelspec": {
   "display_name": ".venv",
   "language": "python",
   "name": "python3"
  },
  "language_info": {
   "codemirror_mode": {
    "name": "ipython",
    "version": 3
   },
   "file_extension": ".py",
   "mimetype": "text/x-python",
   "name": "python",
   "nbconvert_exporter": "python",
   "pygments_lexer": "ipython3",
   "version": "3.13.3"
  }
 },
 "nbformat": 4,
 "nbformat_minor": 5
}
